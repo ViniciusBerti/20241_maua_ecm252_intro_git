{
  "nbformat": 4,
  "nbformat_minor": 0,
  "metadata": {
    "colab": {
      "provenance": [],
      "include_colab_link": true
    },
    "kernelspec": {
      "name": "python3",
      "display_name": "Python 3"
    },
    "language_info": {
      "name": "python"
    },
    "widgets": {
      "application/vnd.jupyter.widget-state+json": {
        "0ee60a6a235a4f3d87e03d96703deeb5": {
          "model_module": "@jupyter-widgets/controls",
          "model_name": "HBoxModel",
          "model_module_version": "1.5.0",
          "state": {
            "_dom_classes": [],
            "_model_module": "@jupyter-widgets/controls",
            "_model_module_version": "1.5.0",
            "_model_name": "HBoxModel",
            "_view_count": null,
            "_view_module": "@jupyter-widgets/controls",
            "_view_module_version": "1.5.0",
            "_view_name": "HBoxView",
            "box_style": "",
            "children": [
              "IPY_MODEL_bdae0414315c4835aa248301ee129f9c",
              "IPY_MODEL_09bceb914ec8447ca454d175f93fbf48",
              "IPY_MODEL_c617931619ab40dead6a1cf564f639be"
            ],
            "layout": "IPY_MODEL_ba060567e3924da5b0565c64018b44a0"
          }
        },
        "bdae0414315c4835aa248301ee129f9c": {
          "model_module": "@jupyter-widgets/controls",
          "model_name": "HTMLModel",
          "model_module_version": "1.5.0",
          "state": {
            "_dom_classes": [],
            "_model_module": "@jupyter-widgets/controls",
            "_model_module_version": "1.5.0",
            "_model_name": "HTMLModel",
            "_view_count": null,
            "_view_module": "@jupyter-widgets/controls",
            "_view_module_version": "1.5.0",
            "_view_name": "HTMLView",
            "description": "",
            "description_tooltip": null,
            "layout": "IPY_MODEL_2514624584564a1a9db8b1f7634a5b91",
            "placeholder": "​",
            "style": "IPY_MODEL_4a13d586f4f94677a3c21ebd910c4dec",
            "value": "Batches: 100%"
          }
        },
        "09bceb914ec8447ca454d175f93fbf48": {
          "model_module": "@jupyter-widgets/controls",
          "model_name": "FloatProgressModel",
          "model_module_version": "1.5.0",
          "state": {
            "_dom_classes": [],
            "_model_module": "@jupyter-widgets/controls",
            "_model_module_version": "1.5.0",
            "_model_name": "FloatProgressModel",
            "_view_count": null,
            "_view_module": "@jupyter-widgets/controls",
            "_view_module_version": "1.5.0",
            "_view_name": "ProgressView",
            "bar_style": "success",
            "description": "",
            "description_tooltip": null,
            "layout": "IPY_MODEL_3d2f5a22e0bb4b86a0dc71cbdc380e81",
            "max": 152,
            "min": 0,
            "orientation": "horizontal",
            "style": "IPY_MODEL_a35b9816a8554fd8a650b0d524366fd2",
            "value": 152
          }
        },
        "c617931619ab40dead6a1cf564f639be": {
          "model_module": "@jupyter-widgets/controls",
          "model_name": "HTMLModel",
          "model_module_version": "1.5.0",
          "state": {
            "_dom_classes": [],
            "_model_module": "@jupyter-widgets/controls",
            "_model_module_version": "1.5.0",
            "_model_name": "HTMLModel",
            "_view_count": null,
            "_view_module": "@jupyter-widgets/controls",
            "_view_module_version": "1.5.0",
            "_view_name": "HTMLView",
            "description": "",
            "description_tooltip": null,
            "layout": "IPY_MODEL_33100f7173f0417aa0ea61aed405e18e",
            "placeholder": "​",
            "style": "IPY_MODEL_07c5059489514518b08173c460486bf1",
            "value": " 152/152 [06:25&lt;00:00,  5.17it/s]"
          }
        },
        "ba060567e3924da5b0565c64018b44a0": {
          "model_module": "@jupyter-widgets/base",
          "model_name": "LayoutModel",
          "model_module_version": "1.2.0",
          "state": {
            "_model_module": "@jupyter-widgets/base",
            "_model_module_version": "1.2.0",
            "_model_name": "LayoutModel",
            "_view_count": null,
            "_view_module": "@jupyter-widgets/base",
            "_view_module_version": "1.2.0",
            "_view_name": "LayoutView",
            "align_content": null,
            "align_items": null,
            "align_self": null,
            "border": null,
            "bottom": null,
            "display": null,
            "flex": null,
            "flex_flow": null,
            "grid_area": null,
            "grid_auto_columns": null,
            "grid_auto_flow": null,
            "grid_auto_rows": null,
            "grid_column": null,
            "grid_gap": null,
            "grid_row": null,
            "grid_template_areas": null,
            "grid_template_columns": null,
            "grid_template_rows": null,
            "height": null,
            "justify_content": null,
            "justify_items": null,
            "left": null,
            "margin": null,
            "max_height": null,
            "max_width": null,
            "min_height": null,
            "min_width": null,
            "object_fit": null,
            "object_position": null,
            "order": null,
            "overflow": null,
            "overflow_x": null,
            "overflow_y": null,
            "padding": null,
            "right": null,
            "top": null,
            "visibility": null,
            "width": null
          }
        },
        "2514624584564a1a9db8b1f7634a5b91": {
          "model_module": "@jupyter-widgets/base",
          "model_name": "LayoutModel",
          "model_module_version": "1.2.0",
          "state": {
            "_model_module": "@jupyter-widgets/base",
            "_model_module_version": "1.2.0",
            "_model_name": "LayoutModel",
            "_view_count": null,
            "_view_module": "@jupyter-widgets/base",
            "_view_module_version": "1.2.0",
            "_view_name": "LayoutView",
            "align_content": null,
            "align_items": null,
            "align_self": null,
            "border": null,
            "bottom": null,
            "display": null,
            "flex": null,
            "flex_flow": null,
            "grid_area": null,
            "grid_auto_columns": null,
            "grid_auto_flow": null,
            "grid_auto_rows": null,
            "grid_column": null,
            "grid_gap": null,
            "grid_row": null,
            "grid_template_areas": null,
            "grid_template_columns": null,
            "grid_template_rows": null,
            "height": null,
            "justify_content": null,
            "justify_items": null,
            "left": null,
            "margin": null,
            "max_height": null,
            "max_width": null,
            "min_height": null,
            "min_width": null,
            "object_fit": null,
            "object_position": null,
            "order": null,
            "overflow": null,
            "overflow_x": null,
            "overflow_y": null,
            "padding": null,
            "right": null,
            "top": null,
            "visibility": null,
            "width": null
          }
        },
        "4a13d586f4f94677a3c21ebd910c4dec": {
          "model_module": "@jupyter-widgets/controls",
          "model_name": "DescriptionStyleModel",
          "model_module_version": "1.5.0",
          "state": {
            "_model_module": "@jupyter-widgets/controls",
            "_model_module_version": "1.5.0",
            "_model_name": "DescriptionStyleModel",
            "_view_count": null,
            "_view_module": "@jupyter-widgets/base",
            "_view_module_version": "1.2.0",
            "_view_name": "StyleView",
            "description_width": ""
          }
        },
        "3d2f5a22e0bb4b86a0dc71cbdc380e81": {
          "model_module": "@jupyter-widgets/base",
          "model_name": "LayoutModel",
          "model_module_version": "1.2.0",
          "state": {
            "_model_module": "@jupyter-widgets/base",
            "_model_module_version": "1.2.0",
            "_model_name": "LayoutModel",
            "_view_count": null,
            "_view_module": "@jupyter-widgets/base",
            "_view_module_version": "1.2.0",
            "_view_name": "LayoutView",
            "align_content": null,
            "align_items": null,
            "align_self": null,
            "border": null,
            "bottom": null,
            "display": null,
            "flex": null,
            "flex_flow": null,
            "grid_area": null,
            "grid_auto_columns": null,
            "grid_auto_flow": null,
            "grid_auto_rows": null,
            "grid_column": null,
            "grid_gap": null,
            "grid_row": null,
            "grid_template_areas": null,
            "grid_template_columns": null,
            "grid_template_rows": null,
            "height": null,
            "justify_content": null,
            "justify_items": null,
            "left": null,
            "margin": null,
            "max_height": null,
            "max_width": null,
            "min_height": null,
            "min_width": null,
            "object_fit": null,
            "object_position": null,
            "order": null,
            "overflow": null,
            "overflow_x": null,
            "overflow_y": null,
            "padding": null,
            "right": null,
            "top": null,
            "visibility": null,
            "width": null
          }
        },
        "a35b9816a8554fd8a650b0d524366fd2": {
          "model_module": "@jupyter-widgets/controls",
          "model_name": "ProgressStyleModel",
          "model_module_version": "1.5.0",
          "state": {
            "_model_module": "@jupyter-widgets/controls",
            "_model_module_version": "1.5.0",
            "_model_name": "ProgressStyleModel",
            "_view_count": null,
            "_view_module": "@jupyter-widgets/base",
            "_view_module_version": "1.2.0",
            "_view_name": "StyleView",
            "bar_color": null,
            "description_width": ""
          }
        },
        "33100f7173f0417aa0ea61aed405e18e": {
          "model_module": "@jupyter-widgets/base",
          "model_name": "LayoutModel",
          "model_module_version": "1.2.0",
          "state": {
            "_model_module": "@jupyter-widgets/base",
            "_model_module_version": "1.2.0",
            "_model_name": "LayoutModel",
            "_view_count": null,
            "_view_module": "@jupyter-widgets/base",
            "_view_module_version": "1.2.0",
            "_view_name": "LayoutView",
            "align_content": null,
            "align_items": null,
            "align_self": null,
            "border": null,
            "bottom": null,
            "display": null,
            "flex": null,
            "flex_flow": null,
            "grid_area": null,
            "grid_auto_columns": null,
            "grid_auto_flow": null,
            "grid_auto_rows": null,
            "grid_column": null,
            "grid_gap": null,
            "grid_row": null,
            "grid_template_areas": null,
            "grid_template_columns": null,
            "grid_template_rows": null,
            "height": null,
            "justify_content": null,
            "justify_items": null,
            "left": null,
            "margin": null,
            "max_height": null,
            "max_width": null,
            "min_height": null,
            "min_width": null,
            "object_fit": null,
            "object_position": null,
            "order": null,
            "overflow": null,
            "overflow_x": null,
            "overflow_y": null,
            "padding": null,
            "right": null,
            "top": null,
            "visibility": null,
            "width": null
          }
        },
        "07c5059489514518b08173c460486bf1": {
          "model_module": "@jupyter-widgets/controls",
          "model_name": "DescriptionStyleModel",
          "model_module_version": "1.5.0",
          "state": {
            "_model_module": "@jupyter-widgets/controls",
            "_model_module_version": "1.5.0",
            "_model_name": "DescriptionStyleModel",
            "_view_count": null,
            "_view_module": "@jupyter-widgets/base",
            "_view_module_version": "1.2.0",
            "_view_name": "StyleView",
            "description_width": ""
          }
        }
      }
    }
  },
  "cells": [
    {
      "cell_type": "markdown",
      "metadata": {
        "id": "view-in-github",
        "colab_type": "text"
      },
      "source": [
        "<a href=\"https://colab.research.google.com/github/ViniciusBerti/20241_maua_ecm252_intro_git/blob/main/imt_ex4b_2.ipynb\" target=\"_parent\"><img src=\"https://colab.research.google.com/assets/colab-badge.svg\" alt=\"Open In Colab\"/></a>"
      ]
    },
    {
      "cell_type": "markdown",
      "source": [
        "# **Exercício Avaliativo 2 - 4o Bimestre**"
      ],
      "metadata": {
        "id": "egMY3jx-rhtd"
      }
    },
    {
      "cell_type": "code",
      "metadata": {
        "id": "rYx9D4GZA5o9",
        "cellView": "form"
      },
      "source": [
        "#@title **Identificação do Grupo**\n",
        "\n",
        "#@markdown Nomes completos em ordem alfabética (*\\<nome\\>, \\<RA\\>*)\n",
        "Aluno1 = 'ERICK EIJI NAGAO, 21.00690-3' #@param {type:\"string\"}\n",
        "Aluno2 = 'IGOR IMPROTA MARTINEZ DA SILVA, 21.00834-5' #@param {type:\"string\"}\n",
        "Aluno3 = 'GABRIEL HENRIQUE BACA RADO, 21.01286-5' #@param {type:\"string\"}\n",
        "Aluno4 = 'RYUSKE HIDEAKI SATO, 21.00745-4' #@param {type:\"string\"}\n",
        "Aluno5 = 'VINICIUS DE OLIVEIRA BERTI, 21.01219-9' #@param {type:\"string\"}\n",
        "Aluno6 = 'None' #@param {type:\"string\"}\n",
        "\n",
        "\n"
      ],
      "execution_count": null,
      "outputs": []
    },
    {
      "cell_type": "markdown",
      "source": [
        "# **Tokenização e Clusterização**\n",
        "\n",
        "## Introdução\n",
        "A clusterização de textos tem uma série de usos, como o agrupamento de mensagens, textos ou notícias com características comuns. Os algoritmos tradicionais de clusterização, entretanto, requerem *features* numéricas e, portanto, a *tokenização* dos documentos.\n",
        "\n",
        "## Este trabalho\n",
        "\n",
        "Neste trabalho você vai analisar fazer a clusterização de mensagens de grupos de notícias e comparar a aderência (*acuracidade de clusterização*) dos agrupamentos obtidos com as classes previamente conhecidas dos grupos.\n",
        "\n",
        "1. **A1 (8.0)** **Tokenização TF-IDF e Clusterização**. Empregue uma tokenização TF-IDF de sua escolha e faça ao menos dois modelos de clusterização (por exemplo k-médias e clusterização hierárquica). Tenha atenção e justifique os parâmetros da Tokenização (n-gramas por exemplo) e da clusterização (métrica de distância!). Analise e compare os resultados com as classes já conhecidas das notícias.\n",
        "\n",
        "2. **A2 (2.0)** **Tokenização LLM e Clusterização**. Empregue agora um modelo LLM para tokenização e repita os procedimentos de clusterização anteriores. Apresente brevemente o modelo e suas referências. Analise e compare os resultados indicando a melhor solução encontrada entre o A1 e A2.\n",
        "\n",
        "3. **A3 (2.0)** **PCA e Clusterização**. Aplique um PCA (0.8) às features (tokens TF-IDF e do LLM) gerando novamente as duas clusterizações selecionadas. Discuta os resultados obtidos.   \n"
      ],
      "metadata": {
        "id": "HH7htSJncUYm"
      }
    },
    {
      "cell_type": "markdown",
      "source": [
        "## Seleção dos Dados para Clusterização\n",
        "\n",
        "São selicionados 5 categorias de mensagens empregando o RA do 1o aluno do grupo (ordem alfabética) como `seed` para seleção."
      ],
      "metadata": {
        "id": "dkfvFsPcyf0x"
      }
    },
    {
      "cell_type": "code",
      "execution_count": null,
      "metadata": {
        "colab": {
          "base_uri": "https://localhost:8080/"
        },
        "id": "RLW2CfMAsV5V",
        "outputId": "0e5bdc7c-a996-443b-c03a-6306a2117a6f"
      },
      "outputs": [
        {
          "output_type": "execute_result",
          "data": {
            "text/plain": [
              "['rec.autos',\n",
              " 'comp.os.ms-windows.misc',\n",
              " 'talk.politics.guns',\n",
              " 'soc.religion.christian',\n",
              " 'misc.forsale']"
            ]
          },
          "metadata": {},
          "execution_count": 7
        }
      ],
      "source": [
        "import numpy as np\n",
        "\n",
        "RA = 1115665\n",
        "\n",
        "from sklearn.datasets import fetch_20newsgroups\n",
        "\n",
        "categories = ['alt.atheism',\n",
        " 'comp.graphics',\n",
        " 'comp.os.ms-windows.misc',\n",
        " 'comp.sys.ibm.pc.hardware',\n",
        " 'comp.sys.mac.hardware',\n",
        " 'comp.windows.x',\n",
        " 'misc.forsale',\n",
        " 'rec.autos',\n",
        " 'rec.motorcycles',\n",
        " 'rec.sport.baseball',\n",
        " 'rec.sport.hockey',\n",
        " 'sci.crypt',\n",
        " 'sci.electronics',\n",
        " 'sci.med',\n",
        " 'sci.space',\n",
        " 'soc.religion.christian',\n",
        " 'talk.politics.guns',\n",
        " 'talk.politics.mideast',\n",
        " 'talk.politics.misc',\n",
        " 'talk.religion.misc']\n",
        "\n",
        "np.random.seed(RA)\n",
        "my_categories =  []\n",
        "\n",
        "for i in np.random.choice(len(categories), 5, replace=False):\n",
        "    my_categories.append(categories[i])\n",
        "\n",
        "my_categories"
      ]
    },
    {
      "cell_type": "code",
      "source": [
        "dataset = fetch_20newsgroups(\n",
        "    remove=(\"headers\", \"footers\", \"quotes\"),\n",
        "    subset=\"all\",\n",
        "    shuffle=True,\n",
        "    categories=my_categories,\n",
        "    random_state=42,\n",
        ")"
      ],
      "metadata": {
        "id": "wP8Xxitfs1Tk"
      },
      "execution_count": null,
      "outputs": []
    },
    {
      "cell_type": "code",
      "source": [
        "labels = dataset.target\n",
        "unique_labels, category_sizes = np.unique(labels, return_counts=True)\n",
        "true_k = unique_labels.shape[0]\n",
        "\n",
        "print(f\"{len(dataset.data)} documents - {true_k} categories\")"
      ],
      "metadata": {
        "colab": {
          "base_uri": "https://localhost:8080/"
        },
        "id": "CrbhTDhptIRO",
        "outputId": "66b2f6cd-52fc-4404-8b2f-ad93279d3c05"
      },
      "execution_count": null,
      "outputs": [
        {
          "output_type": "stream",
          "name": "stdout",
          "text": [
            "4857 documents - 5 categories\n"
          ]
        }
      ]
    },
    {
      "cell_type": "code",
      "metadata": {
        "id": "BluFtfHuCGzm",
        "cellView": "form"
      },
      "source": [
        "#@markdown\n",
        "#@title **Avaliação**\n",
        "A1 = 7 #@param {type:\"slider\", min:0, max:8, step:1}\n",
        "#@markdown *Justificativa dos parâmetros TF-IDF e clusterização; aplicação correta dos métodos; análise e discussão dos resultados*\n",
        "\n",
        "A2 = 2 #@param {type:\"slider\", min:0, max:2, step:1}\n",
        "#@markdown *Escolha, descrição e referências do modelo LLM; aplicação correta nos dados; análise e discussão da comparação dos resultados*\n",
        "\n",
        "A3 = 1.5 #@param {type:\"slider\", min:0, max:2, step:1}\n",
        "#@markdown *Escolha e aplicação correta da técnica de PCA; análise e discussão dos resultados*\n",
        "\n",
        "\n"
      ],
      "execution_count": null,
      "outputs": []
    },
    {
      "cell_type": "code",
      "metadata": {
        "colab": {
          "base_uri": "https://localhost:8080/",
          "height": 160
        },
        "id": "2Gqw7hUZHyle",
        "cellView": "form",
        "outputId": "781bb8ed-ef8c-4ea9-8848-a852297bf7a4"
      },
      "source": [
        "#@markdown # **Nota Final**\n",
        "nota = A1 + A2 + A3\n",
        "\n",
        "print(f'Nota final do trabalho {nota :.1f}')\n",
        "\n",
        "import numpy as np\n",
        "import pandas as pd\n",
        "\n",
        "alunos = pd.DataFrame()\n",
        "\n",
        "lista_tia = []\n",
        "lista_nome = []\n",
        "\n",
        "for i in range(1,7):\n",
        "  exec(\"if Aluno\" + str(i) + \" !='None':  lista = Aluno\" + str(i) + \".split(','); lista_tia.append(lista[0]); lista_nome.append(lista[1].upper())\")\n",
        "\n",
        "alunos['ra'] = lista_tia\n",
        "alunos['nome'] = lista_nome\n",
        "alunos['nota'] = np.round(nota,1)\n",
        "print()\n",
        "display(alunos)"
      ],
      "execution_count": null,
      "outputs": [
        {
          "output_type": "stream",
          "name": "stdout",
          "text": [
            "Nota final do trabalho 10.5\n",
            "\n"
          ]
        },
        {
          "output_type": "display_data",
          "data": {
            "text/plain": [
              "                ra      nome  nota\n",
              "0   Adriana Fujita   1115665  10.5\n",
              "1  Daniel Henrique   9456177  10.5"
            ],
            "text/html": [
              "\n",
              "  <div id=\"df-78390e71-6966-4fa4-a66d-bb48be2674a4\" class=\"colab-df-container\">\n",
              "    <div>\n",
              "<style scoped>\n",
              "    .dataframe tbody tr th:only-of-type {\n",
              "        vertical-align: middle;\n",
              "    }\n",
              "\n",
              "    .dataframe tbody tr th {\n",
              "        vertical-align: top;\n",
              "    }\n",
              "\n",
              "    .dataframe thead th {\n",
              "        text-align: right;\n",
              "    }\n",
              "</style>\n",
              "<table border=\"1\" class=\"dataframe\">\n",
              "  <thead>\n",
              "    <tr style=\"text-align: right;\">\n",
              "      <th></th>\n",
              "      <th>ra</th>\n",
              "      <th>nome</th>\n",
              "      <th>nota</th>\n",
              "    </tr>\n",
              "  </thead>\n",
              "  <tbody>\n",
              "    <tr>\n",
              "      <th>0</th>\n",
              "      <td>Adriana Fujita</td>\n",
              "      <td>1115665</td>\n",
              "      <td>10.5</td>\n",
              "    </tr>\n",
              "    <tr>\n",
              "      <th>1</th>\n",
              "      <td>Daniel Henrique</td>\n",
              "      <td>9456177</td>\n",
              "      <td>10.5</td>\n",
              "    </tr>\n",
              "  </tbody>\n",
              "</table>\n",
              "</div>\n",
              "    <div class=\"colab-df-buttons\">\n",
              "\n",
              "  <div class=\"colab-df-container\">\n",
              "    <button class=\"colab-df-convert\" onclick=\"convertToInteractive('df-78390e71-6966-4fa4-a66d-bb48be2674a4')\"\n",
              "            title=\"Convert this dataframe to an interactive table.\"\n",
              "            style=\"display:none;\">\n",
              "\n",
              "  <svg xmlns=\"http://www.w3.org/2000/svg\" height=\"24px\" viewBox=\"0 -960 960 960\">\n",
              "    <path d=\"M120-120v-720h720v720H120Zm60-500h600v-160H180v160Zm220 220h160v-160H400v160Zm0 220h160v-160H400v160ZM180-400h160v-160H180v160Zm440 0h160v-160H620v160ZM180-180h160v-160H180v160Zm440 0h160v-160H620v160Z\"/>\n",
              "  </svg>\n",
              "    </button>\n",
              "\n",
              "  <style>\n",
              "    .colab-df-container {\n",
              "      display:flex;\n",
              "      gap: 12px;\n",
              "    }\n",
              "\n",
              "    .colab-df-convert {\n",
              "      background-color: #E8F0FE;\n",
              "      border: none;\n",
              "      border-radius: 50%;\n",
              "      cursor: pointer;\n",
              "      display: none;\n",
              "      fill: #1967D2;\n",
              "      height: 32px;\n",
              "      padding: 0 0 0 0;\n",
              "      width: 32px;\n",
              "    }\n",
              "\n",
              "    .colab-df-convert:hover {\n",
              "      background-color: #E2EBFA;\n",
              "      box-shadow: 0px 1px 2px rgba(60, 64, 67, 0.3), 0px 1px 3px 1px rgba(60, 64, 67, 0.15);\n",
              "      fill: #174EA6;\n",
              "    }\n",
              "\n",
              "    .colab-df-buttons div {\n",
              "      margin-bottom: 4px;\n",
              "    }\n",
              "\n",
              "    [theme=dark] .colab-df-convert {\n",
              "      background-color: #3B4455;\n",
              "      fill: #D2E3FC;\n",
              "    }\n",
              "\n",
              "    [theme=dark] .colab-df-convert:hover {\n",
              "      background-color: #434B5C;\n",
              "      box-shadow: 0px 1px 3px 1px rgba(0, 0, 0, 0.15);\n",
              "      filter: drop-shadow(0px 1px 2px rgba(0, 0, 0, 0.3));\n",
              "      fill: #FFFFFF;\n",
              "    }\n",
              "  </style>\n",
              "\n",
              "    <script>\n",
              "      const buttonEl =\n",
              "        document.querySelector('#df-78390e71-6966-4fa4-a66d-bb48be2674a4 button.colab-df-convert');\n",
              "      buttonEl.style.display =\n",
              "        google.colab.kernel.accessAllowed ? 'block' : 'none';\n",
              "\n",
              "      async function convertToInteractive(key) {\n",
              "        const element = document.querySelector('#df-78390e71-6966-4fa4-a66d-bb48be2674a4');\n",
              "        const dataTable =\n",
              "          await google.colab.kernel.invokeFunction('convertToInteractive',\n",
              "                                                    [key], {});\n",
              "        if (!dataTable) return;\n",
              "\n",
              "        const docLinkHtml = 'Like what you see? Visit the ' +\n",
              "          '<a target=\"_blank\" href=https://colab.research.google.com/notebooks/data_table.ipynb>data table notebook</a>'\n",
              "          + ' to learn more about interactive tables.';\n",
              "        element.innerHTML = '';\n",
              "        dataTable['output_type'] = 'display_data';\n",
              "        await google.colab.output.renderOutput(dataTable, element);\n",
              "        const docLink = document.createElement('div');\n",
              "        docLink.innerHTML = docLinkHtml;\n",
              "        element.appendChild(docLink);\n",
              "      }\n",
              "    </script>\n",
              "  </div>\n",
              "\n",
              "\n",
              "    <div id=\"df-b545036a-87d9-40f5-85b0-64275d2ed09d\">\n",
              "      <button class=\"colab-df-quickchart\" onclick=\"quickchart('df-b545036a-87d9-40f5-85b0-64275d2ed09d')\"\n",
              "                title=\"Suggest charts\"\n",
              "                style=\"display:none;\">\n",
              "\n",
              "<svg xmlns=\"http://www.w3.org/2000/svg\" height=\"24px\"viewBox=\"0 0 24 24\"\n",
              "     width=\"24px\">\n",
              "    <g>\n",
              "        <path d=\"M19 3H5c-1.1 0-2 .9-2 2v14c0 1.1.9 2 2 2h14c1.1 0 2-.9 2-2V5c0-1.1-.9-2-2-2zM9 17H7v-7h2v7zm4 0h-2V7h2v10zm4 0h-2v-4h2v4z\"/>\n",
              "    </g>\n",
              "</svg>\n",
              "      </button>\n",
              "\n",
              "<style>\n",
              "  .colab-df-quickchart {\n",
              "      --bg-color: #E8F0FE;\n",
              "      --fill-color: #1967D2;\n",
              "      --hover-bg-color: #E2EBFA;\n",
              "      --hover-fill-color: #174EA6;\n",
              "      --disabled-fill-color: #AAA;\n",
              "      --disabled-bg-color: #DDD;\n",
              "  }\n",
              "\n",
              "  [theme=dark] .colab-df-quickchart {\n",
              "      --bg-color: #3B4455;\n",
              "      --fill-color: #D2E3FC;\n",
              "      --hover-bg-color: #434B5C;\n",
              "      --hover-fill-color: #FFFFFF;\n",
              "      --disabled-bg-color: #3B4455;\n",
              "      --disabled-fill-color: #666;\n",
              "  }\n",
              "\n",
              "  .colab-df-quickchart {\n",
              "    background-color: var(--bg-color);\n",
              "    border: none;\n",
              "    border-radius: 50%;\n",
              "    cursor: pointer;\n",
              "    display: none;\n",
              "    fill: var(--fill-color);\n",
              "    height: 32px;\n",
              "    padding: 0;\n",
              "    width: 32px;\n",
              "  }\n",
              "\n",
              "  .colab-df-quickchart:hover {\n",
              "    background-color: var(--hover-bg-color);\n",
              "    box-shadow: 0 1px 2px rgba(60, 64, 67, 0.3), 0 1px 3px 1px rgba(60, 64, 67, 0.15);\n",
              "    fill: var(--button-hover-fill-color);\n",
              "  }\n",
              "\n",
              "  .colab-df-quickchart-complete:disabled,\n",
              "  .colab-df-quickchart-complete:disabled:hover {\n",
              "    background-color: var(--disabled-bg-color);\n",
              "    fill: var(--disabled-fill-color);\n",
              "    box-shadow: none;\n",
              "  }\n",
              "\n",
              "  .colab-df-spinner {\n",
              "    border: 2px solid var(--fill-color);\n",
              "    border-color: transparent;\n",
              "    border-bottom-color: var(--fill-color);\n",
              "    animation:\n",
              "      spin 1s steps(1) infinite;\n",
              "  }\n",
              "\n",
              "  @keyframes spin {\n",
              "    0% {\n",
              "      border-color: transparent;\n",
              "      border-bottom-color: var(--fill-color);\n",
              "      border-left-color: var(--fill-color);\n",
              "    }\n",
              "    20% {\n",
              "      border-color: transparent;\n",
              "      border-left-color: var(--fill-color);\n",
              "      border-top-color: var(--fill-color);\n",
              "    }\n",
              "    30% {\n",
              "      border-color: transparent;\n",
              "      border-left-color: var(--fill-color);\n",
              "      border-top-color: var(--fill-color);\n",
              "      border-right-color: var(--fill-color);\n",
              "    }\n",
              "    40% {\n",
              "      border-color: transparent;\n",
              "      border-right-color: var(--fill-color);\n",
              "      border-top-color: var(--fill-color);\n",
              "    }\n",
              "    60% {\n",
              "      border-color: transparent;\n",
              "      border-right-color: var(--fill-color);\n",
              "    }\n",
              "    80% {\n",
              "      border-color: transparent;\n",
              "      border-right-color: var(--fill-color);\n",
              "      border-bottom-color: var(--fill-color);\n",
              "    }\n",
              "    90% {\n",
              "      border-color: transparent;\n",
              "      border-bottom-color: var(--fill-color);\n",
              "    }\n",
              "  }\n",
              "</style>\n",
              "\n",
              "      <script>\n",
              "        async function quickchart(key) {\n",
              "          const quickchartButtonEl =\n",
              "            document.querySelector('#' + key + ' button');\n",
              "          quickchartButtonEl.disabled = true;  // To prevent multiple clicks.\n",
              "          quickchartButtonEl.classList.add('colab-df-spinner');\n",
              "          try {\n",
              "            const charts = await google.colab.kernel.invokeFunction(\n",
              "                'suggestCharts', [key], {});\n",
              "          } catch (error) {\n",
              "            console.error('Error during call to suggestCharts:', error);\n",
              "          }\n",
              "          quickchartButtonEl.classList.remove('colab-df-spinner');\n",
              "          quickchartButtonEl.classList.add('colab-df-quickchart-complete');\n",
              "        }\n",
              "        (() => {\n",
              "          let quickchartButtonEl =\n",
              "            document.querySelector('#df-b545036a-87d9-40f5-85b0-64275d2ed09d button');\n",
              "          quickchartButtonEl.style.display =\n",
              "            google.colab.kernel.accessAllowed ? 'block' : 'none';\n",
              "        })();\n",
              "      </script>\n",
              "    </div>\n",
              "\n",
              "  <div id=\"id_92cf449e-e5d4-409e-b5fd-a44211a0a1a9\">\n",
              "    <style>\n",
              "      .colab-df-generate {\n",
              "        background-color: #E8F0FE;\n",
              "        border: none;\n",
              "        border-radius: 50%;\n",
              "        cursor: pointer;\n",
              "        display: none;\n",
              "        fill: #1967D2;\n",
              "        height: 32px;\n",
              "        padding: 0 0 0 0;\n",
              "        width: 32px;\n",
              "      }\n",
              "\n",
              "      .colab-df-generate:hover {\n",
              "        background-color: #E2EBFA;\n",
              "        box-shadow: 0px 1px 2px rgba(60, 64, 67, 0.3), 0px 1px 3px 1px rgba(60, 64, 67, 0.15);\n",
              "        fill: #174EA6;\n",
              "      }\n",
              "\n",
              "      [theme=dark] .colab-df-generate {\n",
              "        background-color: #3B4455;\n",
              "        fill: #D2E3FC;\n",
              "      }\n",
              "\n",
              "      [theme=dark] .colab-df-generate:hover {\n",
              "        background-color: #434B5C;\n",
              "        box-shadow: 0px 1px 3px 1px rgba(0, 0, 0, 0.15);\n",
              "        filter: drop-shadow(0px 1px 2px rgba(0, 0, 0, 0.3));\n",
              "        fill: #FFFFFF;\n",
              "      }\n",
              "    </style>\n",
              "    <button class=\"colab-df-generate\" onclick=\"generateWithVariable('alunos')\"\n",
              "            title=\"Generate code using this dataframe.\"\n",
              "            style=\"display:none;\">\n",
              "\n",
              "  <svg xmlns=\"http://www.w3.org/2000/svg\" height=\"24px\"viewBox=\"0 0 24 24\"\n",
              "       width=\"24px\">\n",
              "    <path d=\"M7,19H8.4L18.45,9,17,7.55,7,17.6ZM5,21V16.75L18.45,3.32a2,2,0,0,1,2.83,0l1.4,1.43a1.91,1.91,0,0,1,.58,1.4,1.91,1.91,0,0,1-.58,1.4L9.25,21ZM18.45,9,17,7.55Zm-12,3A5.31,5.31,0,0,0,4.9,8.1,5.31,5.31,0,0,0,1,6.5,5.31,5.31,0,0,0,4.9,4.9,5.31,5.31,0,0,0,6.5,1,5.31,5.31,0,0,0,8.1,4.9,5.31,5.31,0,0,0,12,6.5,5.46,5.46,0,0,0,6.5,12Z\"/>\n",
              "  </svg>\n",
              "    </button>\n",
              "    <script>\n",
              "      (() => {\n",
              "      const buttonEl =\n",
              "        document.querySelector('#id_92cf449e-e5d4-409e-b5fd-a44211a0a1a9 button.colab-df-generate');\n",
              "      buttonEl.style.display =\n",
              "        google.colab.kernel.accessAllowed ? 'block' : 'none';\n",
              "\n",
              "      buttonEl.onclick = () => {\n",
              "        google.colab.notebook.generateWithVariable('alunos');\n",
              "      }\n",
              "      })();\n",
              "    </script>\n",
              "  </div>\n",
              "\n",
              "    </div>\n",
              "  </div>\n"
            ],
            "application/vnd.google.colaboratory.intrinsic+json": {
              "type": "dataframe",
              "variable_name": "alunos",
              "summary": "{\n  \"name\": \"alunos\",\n  \"rows\": 2,\n  \"fields\": [\n    {\n      \"column\": \"ra\",\n      \"properties\": {\n        \"dtype\": \"string\",\n        \"num_unique_values\": 2,\n        \"samples\": [\n          \"Daniel Henrique\",\n          \"Adriana Fujita\"\n        ],\n        \"semantic_type\": \"\",\n        \"description\": \"\"\n      }\n    },\n    {\n      \"column\": \"nome\",\n      \"properties\": {\n        \"dtype\": \"string\",\n        \"num_unique_values\": 2,\n        \"samples\": [\n          \" 9456177\",\n          \" 1115665\"\n        ],\n        \"semantic_type\": \"\",\n        \"description\": \"\"\n      }\n    },\n    {\n      \"column\": \"nota\",\n      \"properties\": {\n        \"dtype\": \"number\",\n        \"std\": 0.0,\n        \"min\": 10.5,\n        \"max\": 10.5,\n        \"num_unique_values\": 1,\n        \"samples\": [\n          10.5\n        ],\n        \"semantic_type\": \"\",\n        \"description\": \"\"\n      }\n    }\n  ]\n}"
            }
          },
          "metadata": {}
        }
      ]
    },
    {
      "cell_type": "markdown",
      "source": [
        "Parte 1"
      ],
      "metadata": {
        "id": "R2D4nPoeYTEG"
      }
    },
    {
      "cell_type": "code",
      "source": [
        "from sklearn.feature_extraction.text import TfidfVectorizer\n",
        "from sklearn.cluster import KMeans, AgglomerativeClustering\n",
        "from sklearn.metrics import adjusted_rand_score, silhouette_score\n",
        "from sklearn.metrics import homogeneity_score, completeness_score, v_measure_score\n",
        "\n",
        "tfidf = TfidfVectorizer(stop_words='english', max_df=0.5, min_df=5, ngram_range=(1,2))\n",
        "X_tfidf = tfidf.fit_transform(dataset.data)\n",
        "\n",
        "def eval_clustering(X, clusters, name=\"\"):\n",
        "    print(f\"{name}:\")\n",
        "    print(f\"ARI: {adjusted_rand_score(labels, clusters):.3f}\")\n",
        "    print(f\"Silhouette: {silhouette_score(X, clusters):.3f}\")\n",
        "    print(f\"Homogeneity: {homogeneity_score(labels, clusters):.3f}\")\n",
        "    print(f\"Completeness: {completeness_score(labels, clusters):.3f}\")\n",
        "    print(f\"V-Measure: {v_measure_score(labels, clusters):.3f}\\n\")\n",
        "\n",
        "kmeans_tfidf = KMeans(n_clusters=true_k, random_state=42, n_init=20)\n",
        "clusters_kmeans_tfidf = kmeans_tfidf.fit_predict(X_tfidf)\n",
        "eval_clustering(X_tfidf, clusters_kmeans_tfidf, \"TF-IDF + KMeans\")\n",
        "\n",
        "agg_tfidf = AgglomerativeClustering(n_clusters=true_k, linkage='ward')\n",
        "clusters_agg_tfidf = agg_tfidf.fit_predict(X_tfidf.toarray())\n",
        "eval_clustering(X_tfidf.toarray(), clusters_agg_tfidf, \"TF-IDF + Agglomerative\")"
      ],
      "metadata": {
        "colab": {
          "base_uri": "https://localhost:8080/"
        },
        "id": "NS-cGioUVYre",
        "outputId": "60b37d59-9f27-41db-d9f2-89e48da39f59"
      },
      "execution_count": null,
      "outputs": [
        {
          "output_type": "stream",
          "name": "stdout",
          "text": [
            "TF-IDF + KMeans:\n",
            "ARI: 0.316\n",
            "Silhouette: 0.008\n",
            "Homogeneity: 0.491\n",
            "Completeness: 0.565\n",
            "V-Measure: 0.526\n",
            "\n",
            "TF-IDF + Agglomerative:\n",
            "ARI: 0.239\n",
            "Silhouette: 0.008\n",
            "Homogeneity: 0.360\n",
            "Completeness: 0.505\n",
            "V-Measure: 0.421\n",
            "\n"
          ]
        }
      ]
    },
    {
      "cell_type": "markdown",
      "source": [
        "Nessa primeira parte nós utilizamos a tokenização TF-IDF (Term Frequency–Inverse Document Frequency) para transformar os textos em vetores numéricos.\n",
        "Os parâmetros escolhidos foram stop_words='english', max_df=0.5, min_df=5 e ngram_range=(1,2), pois ajudam a deixar a representação mais equilibrada — removendo palavras muito frequentes, ignorando termos raros e considerando combinações de duas palavras (bigramas).\n",
        "\n",
        "Aplicamos dois algoritmos de clusterização: K-Means e Agglomerative Clustering (linkage = 'ward'). O K-Means foi escolhido pela eficiência e bom desempenho em dados de alta dimensionalidade, enquanto o Agglomerative foi usado para observar possíveis relações hierárquicas entre os textos.\n",
        "\n",
        "Os resultados mostraram que o K-Means apresentou o melhor desempenho, com ARI = 0.316, Homogeneity = 0.491 e V-Measure = 0.526, enquanto o Agglomerative obteve ARI = 0.239.\n",
        "O Silhouette Score, próximo de zero (0.008), é comum em textos representados por TF-IDF, já que os vetores são muito esparsos e os clusters acabam ficando próximos uns dos outros.\n",
        "\n",
        "Em termos de interpretação, o TF-IDF conseguiu separar parcialmente alguns temas (como religião, política e tecnologia), mas ainda ocorreu mistura entre categorias com vocabulário parecido, como rec.autos e misc.forsale.\n",
        "\n",
        "No geral, o TF-IDF funcionou bem como uma primeira abordagem, conseguindo capturar padrões lexicais, mas sem entender o significado das palavras.\n",
        "O K-Means se mostrou o modelo mais adequado nessa etapa, representando melhor os grupos em comparação ao Agglomerative."
      ],
      "metadata": {
        "id": "Iw-TqqVbjEU9"
      }
    },
    {
      "cell_type": "markdown",
      "source": [
        "Parte 2"
      ],
      "metadata": {
        "id": "2wfIdz2CjvuT"
      }
    },
    {
      "cell_type": "code",
      "source": [
        "from sentence_transformers import SentenceTransformer\n",
        "from sklearn.cluster import KMeans, AgglomerativeClustering\n",
        "\n",
        "model = SentenceTransformer('all-MiniLM-L6-v2')\n",
        "X_llm = model.encode(dataset.data, show_progress_bar=True)\n",
        "\n",
        "kmeans_llm = KMeans(n_clusters=true_k, random_state=42, n_init=50)\n",
        "clusters_kmeans_llm = kmeans_llm.fit_predict(X_llm)\n",
        "eval_clustering(X_llm, clusters_kmeans_llm, \"LLM + KMeans\")\n",
        "\n",
        "agg_llm = AgglomerativeClustering(\n",
        "    n_clusters=true_k,\n",
        "    metric='cosine',\n",
        "    linkage='average'\n",
        ")\n",
        "clusters_agg_llm = agg_llm.fit_predict(X_llm)\n",
        "eval_clustering(X_llm, clusters_agg_llm, \"LLM + Agglomerative\")"
      ],
      "metadata": {
        "colab": {
          "base_uri": "https://localhost:8080/",
          "height": 307,
          "referenced_widgets": [
            "0ee60a6a235a4f3d87e03d96703deeb5",
            "bdae0414315c4835aa248301ee129f9c",
            "09bceb914ec8447ca454d175f93fbf48",
            "c617931619ab40dead6a1cf564f639be",
            "ba060567e3924da5b0565c64018b44a0",
            "2514624584564a1a9db8b1f7634a5b91",
            "4a13d586f4f94677a3c21ebd910c4dec",
            "3d2f5a22e0bb4b86a0dc71cbdc380e81",
            "a35b9816a8554fd8a650b0d524366fd2",
            "33100f7173f0417aa0ea61aed405e18e",
            "07c5059489514518b08173c460486bf1"
          ]
        },
        "id": "2r41ctALjyrn",
        "outputId": "a0476844-b5ff-41b4-acb9-9e7fb91f5cfe"
      },
      "execution_count": null,
      "outputs": [
        {
          "output_type": "display_data",
          "data": {
            "text/plain": [
              "Batches:   0%|          | 0/152 [00:00<?, ?it/s]"
            ],
            "application/vnd.jupyter.widget-view+json": {
              "version_major": 2,
              "version_minor": 0,
              "model_id": "0ee60a6a235a4f3d87e03d96703deeb5"
            }
          },
          "metadata": {}
        },
        {
          "output_type": "stream",
          "name": "stdout",
          "text": [
            "LLM + KMeans:\n",
            "ARI: 0.565\n",
            "Silhouette: 0.074\n",
            "Homogeneity: 0.566\n",
            "Completeness: 0.628\n",
            "V-Measure: 0.596\n",
            "\n",
            "LLM + Agglomerative:\n",
            "ARI: 0.378\n",
            "Silhouette: 0.041\n",
            "Homogeneity: 0.414\n",
            "Completeness: 0.644\n",
            "V-Measure: 0.504\n",
            "\n"
          ]
        }
      ]
    },
    {
      "cell_type": "markdown",
      "source": [
        "Nessa segunda parte nós utilizamos um modelo de linguagem (LLM) para gerar representações vetoriais (embeddings) dos textos, substituindo a abordagem de tokenização com TF-IDF.\n",
        "O modelo usado foi o all-MiniLM-L6-v2, da biblioteca Sentence-Transformers, que gera vetores densos de 384 dimensões e é baseado no Sentence-BERT (Reimers & Gurevych, 2019). Esse modelo consegue capturar o significado e o contexto das frases, e não apenas a frequência das palavras.\n",
        "\n",
        "Aplicamos novamente os dois algoritmos de clusterização — K-Means e Agglomerative (métrica = 'cosine', linkage = 'average') — para comparar os resultados com a etapa anterior.\n",
        "\n",
        "O K-Means apresentou um resultado bem superior ao TF-IDF, com ARI = 0.565, Homogeneity = 0.566 e V-Measure = 0.596, mostrando uma separação mais coerente entre os grupos.\n",
        "Já o Agglomerative teve desempenho um pouco inferior, com ARI = 0.378, Homogeneity = 0.414 e V-Measure = 0.504, mas ainda melhor do que na etapa com TF-IDF.\n",
        "O Silhouette Score continuou baixo (entre 0.04 e 0.07), o que é esperado em embeddings densos, já que os vetores ficam mais próximos entre si no espaço vetorial.\n",
        "\n",
        "Esses resultados mostram que os embeddings do LLM representam muito melhor o conteúdo dos textos, agrupando mensagens relacionadas mesmo quando usam vocabulário diferente.\n",
        "Por exemplo, postagens que falam sobre “fé”, “igreja” e “oração” foram agrupadas no mesmo cluster, mesmo sem repetir as mesmas palavras.\n",
        "\n",
        "No geral, a combinação LLM + K-Means apresentou o melhor desempenho até o momento, mostrando que usar representações semânticas melhora bastante a qualidade da clusterização."
      ],
      "metadata": {
        "id": "7kXlmQZHpZVx"
      }
    },
    {
      "cell_type": "markdown",
      "source": [
        "Parte 3"
      ],
      "metadata": {
        "id": "B_jBelmuprIL"
      }
    },
    {
      "cell_type": "code",
      "source": [
        "from sklearn.decomposition import PCA\n",
        "\n",
        "X_tfidf_dense = X_tfidf.toarray()\n",
        "pca_tfidf = PCA(n_components=0.8, svd_solver='full', random_state=42)\n",
        "X_tfidf_pca = pca_tfidf.fit_transform(X_tfidf_dense)\n",
        "\n",
        "kmeans_tfidf_pca = KMeans(n_clusters=true_k, random_state=42, n_init=30)\n",
        "clusters_tfidf_pca = kmeans_tfidf_pca.fit_predict(X_tfidf_pca)\n",
        "eval_clustering(X_tfidf_pca, clusters_tfidf_pca, \"TF-IDF + PCA(0.8) + KMeans\")\n",
        "\n",
        "pca_llm = PCA(n_components=0.8, svd_solver='full', random_state=42)\n",
        "X_llm_pca = pca_llm.fit_transform(X_llm)\n",
        "\n",
        "kmeans_llm_pca = KMeans(n_clusters=true_k, random_state=42, n_init=30)\n",
        "clusters_llm_pca = kmeans_llm_pca.fit_predict(X_llm_pca)\n",
        "eval_clustering(X_llm_pca, clusters_llm_pca, \"LLM + PCA(0.8) + KMeans\")"
      ],
      "metadata": {
        "colab": {
          "base_uri": "https://localhost:8080/"
        },
        "id": "mZcuMmn2qP5e",
        "outputId": "55611c3c-5a7d-420c-cf44-05266b0a75dc"
      },
      "execution_count": null,
      "outputs": [
        {
          "output_type": "stream",
          "name": "stdout",
          "text": [
            "TF-IDF + PCA(0.8) + KMeans:\n",
            "ARI: 0.298\n",
            "Silhouette: 0.008\n",
            "Homogeneity: 0.474\n",
            "Completeness: 0.549\n",
            "V-Measure: 0.509\n",
            "\n",
            "LLM + PCA(0.8) + KMeans:\n",
            "ARI: 0.566\n",
            "Silhouette: 0.095\n",
            "Homogeneity: 0.567\n",
            "Completeness: 0.629\n",
            "V-Measure: 0.596\n",
            "\n"
          ]
        }
      ]
    },
    {
      "cell_type": "markdown",
      "source": [
        "Nessa terceira parte nós aplicamos a técnica de PCA (Principal Component Analysis) sobre os vetores TF-IDF e LLM, mantendo 80% da variância explicada (n_components=0.8).\n",
        "O objetivo dessa etapa foi reduzir a dimensionalidade dos dados para diminuir o ruído, melhorar o desempenho computacional e verificar o impacto dessa redução na qualidade dos agrupamentos.\n",
        "\n",
        "Após aplicar o PCA, repetimos o processo de clusterização com o K-Means, utilizando as mesmas configurações das etapas anteriores.\n",
        "\n",
        "Nos resultados, o TF-IDF + PCA(0.8) apresentou um leve decréscimo nas métricas, com ARI = 0.298, Homogeneity = 0.474 e V-Measure = 0.509, o que mostra uma pequena perda de informação causada pela compressão dos vetores.\n",
        "Já o LLM + PCA(0.8) manteve praticamente o mesmo desempenho da etapa anterior, com ARI = 0.566, Homogeneity = 0.567 e V-Measure = 0.596, mas com menor custo computacional e resultados mais estáveis.\n",
        "\n",
        "O Silhouette Score permaneceu baixo (entre 0.008 e 0.095), o que é esperado em dados textuais, especialmente após a redução de dimensão.\n",
        "\n",
        "De modo geral, o PCA mostrou-se mais útil quando aplicado aos embeddings do LLM, que conseguiram preservar bem a estrutura semântica dos dados mesmo após a redução.\n",
        "No caso do TF-IDF, a diminuição das dimensões acabou removendo termos discriminativos importantes, o que afetou um pouco a separação entre as categorias.\n",
        "\n",
        "Assim, concluímos que a combinação LLM + PCA(0.8) + K-Means apresentou o melhor equilíbrio entre desempenho, estabilidade e eficiência computacional, sendo a mais adequada para representar os textos de forma compacta e coerente."
      ],
      "metadata": {
        "id": "l-PCzvDyrxeA"
      }
    }
  ]
}