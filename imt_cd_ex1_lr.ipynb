{
  "nbformat": 4,
  "nbformat_minor": 0,
  "metadata": {
    "colab": {
      "provenance": [],
      "toc_visible": true,
      "include_colab_link": true
    },
    "kernelspec": {
      "name": "python3",
      "display_name": "Python 3"
    },
    "language_info": {
      "name": "python"
    }
  },
  "cells": [
    {
      "cell_type": "markdown",
      "metadata": {
        "id": "view-in-github",
        "colab_type": "text"
      },
      "source": [
        "<a href=\"https://colab.research.google.com/github/ViniciusBerti/20241_maua_ecm252_intro_git/blob/main/imt_cd_ex1_lr.ipynb\" target=\"_parent\"><img src=\"https://colab.research.google.com/assets/colab-badge.svg\" alt=\"Open In Colab\"/></a>"
      ]
    },
    {
      "cell_type": "markdown",
      "metadata": {
        "id": "80CF3Eq9EXDW"
      },
      "source": [
        "<head>\n",
        "  <meta name=\"author\" content=\"Rogério de Oliveira\">\n",
        "  <meta institution=\"author\" content=\"ITM\">\n",
        "</head>\n",
        "\n",
        "<img src=\"https://maua.br/images/selo-60-anos-maua.svg\" width=300, align=\"right\">\n",
        "<!-- <h1 align=left><font size = 6, style=\"color:rgb(200,0,0)\"> optional title </font></h1> -->\n",
        "\n",
        "\n"
      ]
    },
    {
      "cell_type": "markdown",
      "source": [
        "# **Exercício 1 - 3o bimestre - ECM514 Ciência de Dados**"
      ],
      "metadata": {
        "id": "ycfZqHfaGvhX"
      }
    },
    {
      "cell_type": "code",
      "metadata": {
        "id": "rYx9D4GZA5o9",
        "cellView": "form"
      },
      "source": [
        "#@markdown Nome completo e RA (*\\<nome\\>, \\<RA\\>*)\n",
        "Aluno = 'Vinícius de Oliveira Berti, 21.01219-9' #@param {type:\"string\"}\n",
        "\n",
        "\n",
        "\n",
        "\n"
      ],
      "execution_count": null,
      "outputs": []
    },
    {
      "cell_type": "markdown",
      "source": [
        "# Exercício 1.\n",
        "\n",
        "Neste exercício você fará diferentes modelos de regressão linear para estimar o peso de pinguins (`body_mass_mg`).\n",
        "\n",
        "1. Desconsidere linhas com valores nulos (*Pre-processing*).\n",
        "2. Empregue inicialmente todas as variáveis disponíveis no modelo. Para as variáveis categóricas faça o hot encode eliminando a multicolinearidade excluindo a categoria de menor valor (drop 'first') (*Pre-processing*).\n",
        "3. Examine as variáveis significativas e implemente um modelo com o **`SCIKIT-LEARN`** adicionando ainda uma variável de interação entre `bill_length_mm` e `bill_depth_mm` **OU**  `bill_length_mm`,`bill_depth_mm` e `flipper_length_mm`, a que se mostrar significativa.\n",
        "4. Empregue esse último modelo para prever o peso de um pinguim fêmea com medidas médias da espécie Chinstrap e compare com os valores reais."
      ],
      "metadata": {
        "id": "LER0aVTJ6Lsv"
      }
    },
    {
      "cell_type": "code",
      "source": [
        "import pandas as pd\n",
        "import numpy as np\n",
        "\n",
        "path = 'https://github.com/Rogerio-mack/IMT_CD_2025/raw/refs/heads/main/data/'\n",
        "\n",
        "df = pd.read_csv(path + 'penguins.csv')\n",
        "df.head()"
      ],
      "metadata": {
        "colab": {
          "base_uri": "https://localhost:8080/",
          "height": 206
        },
        "id": "uefRmb-rQD8A",
        "outputId": "c246bea4-e38f-4806-b79c-b7784afa7414"
      },
      "execution_count": null,
      "outputs": [
        {
          "output_type": "execute_result",
          "data": {
            "text/plain": [
              "  species     island  bill_length_mm  bill_depth_mm  flipper_length_mm  \\\n",
              "0  Adelie  Torgersen            39.1           18.7              181.0   \n",
              "1  Adelie  Torgersen            39.5           17.4              186.0   \n",
              "2  Adelie  Torgersen            40.3           18.0              195.0   \n",
              "3  Adelie  Torgersen             NaN            NaN                NaN   \n",
              "4  Adelie  Torgersen            36.7           19.3              193.0   \n",
              "\n",
              "   body_mass_g     sex  \n",
              "0       3750.0    Male  \n",
              "1       3800.0  Female  \n",
              "2       3250.0  Female  \n",
              "3          NaN     NaN  \n",
              "4       3450.0  Female  "
            ],
            "text/html": [
              "\n",
              "  <div id=\"df-7d72582b-7c97-4098-a214-153a21e710bc\" class=\"colab-df-container\">\n",
              "    <div>\n",
              "<style scoped>\n",
              "    .dataframe tbody tr th:only-of-type {\n",
              "        vertical-align: middle;\n",
              "    }\n",
              "\n",
              "    .dataframe tbody tr th {\n",
              "        vertical-align: top;\n",
              "    }\n",
              "\n",
              "    .dataframe thead th {\n",
              "        text-align: right;\n",
              "    }\n",
              "</style>\n",
              "<table border=\"1\" class=\"dataframe\">\n",
              "  <thead>\n",
              "    <tr style=\"text-align: right;\">\n",
              "      <th></th>\n",
              "      <th>species</th>\n",
              "      <th>island</th>\n",
              "      <th>bill_length_mm</th>\n",
              "      <th>bill_depth_mm</th>\n",
              "      <th>flipper_length_mm</th>\n",
              "      <th>body_mass_g</th>\n",
              "      <th>sex</th>\n",
              "    </tr>\n",
              "  </thead>\n",
              "  <tbody>\n",
              "    <tr>\n",
              "      <th>0</th>\n",
              "      <td>Adelie</td>\n",
              "      <td>Torgersen</td>\n",
              "      <td>39.1</td>\n",
              "      <td>18.7</td>\n",
              "      <td>181.0</td>\n",
              "      <td>3750.0</td>\n",
              "      <td>Male</td>\n",
              "    </tr>\n",
              "    <tr>\n",
              "      <th>1</th>\n",
              "      <td>Adelie</td>\n",
              "      <td>Torgersen</td>\n",
              "      <td>39.5</td>\n",
              "      <td>17.4</td>\n",
              "      <td>186.0</td>\n",
              "      <td>3800.0</td>\n",
              "      <td>Female</td>\n",
              "    </tr>\n",
              "    <tr>\n",
              "      <th>2</th>\n",
              "      <td>Adelie</td>\n",
              "      <td>Torgersen</td>\n",
              "      <td>40.3</td>\n",
              "      <td>18.0</td>\n",
              "      <td>195.0</td>\n",
              "      <td>3250.0</td>\n",
              "      <td>Female</td>\n",
              "    </tr>\n",
              "    <tr>\n",
              "      <th>3</th>\n",
              "      <td>Adelie</td>\n",
              "      <td>Torgersen</td>\n",
              "      <td>NaN</td>\n",
              "      <td>NaN</td>\n",
              "      <td>NaN</td>\n",
              "      <td>NaN</td>\n",
              "      <td>NaN</td>\n",
              "    </tr>\n",
              "    <tr>\n",
              "      <th>4</th>\n",
              "      <td>Adelie</td>\n",
              "      <td>Torgersen</td>\n",
              "      <td>36.7</td>\n",
              "      <td>19.3</td>\n",
              "      <td>193.0</td>\n",
              "      <td>3450.0</td>\n",
              "      <td>Female</td>\n",
              "    </tr>\n",
              "  </tbody>\n",
              "</table>\n",
              "</div>\n",
              "    <div class=\"colab-df-buttons\">\n",
              "\n",
              "  <div class=\"colab-df-container\">\n",
              "    <button class=\"colab-df-convert\" onclick=\"convertToInteractive('df-7d72582b-7c97-4098-a214-153a21e710bc')\"\n",
              "            title=\"Convert this dataframe to an interactive table.\"\n",
              "            style=\"display:none;\">\n",
              "\n",
              "  <svg xmlns=\"http://www.w3.org/2000/svg\" height=\"24px\" viewBox=\"0 -960 960 960\">\n",
              "    <path d=\"M120-120v-720h720v720H120Zm60-500h600v-160H180v160Zm220 220h160v-160H400v160Zm0 220h160v-160H400v160ZM180-400h160v-160H180v160Zm440 0h160v-160H620v160ZM180-180h160v-160H180v160Zm440 0h160v-160H620v160Z\"/>\n",
              "  </svg>\n",
              "    </button>\n",
              "\n",
              "  <style>\n",
              "    .colab-df-container {\n",
              "      display:flex;\n",
              "      gap: 12px;\n",
              "    }\n",
              "\n",
              "    .colab-df-convert {\n",
              "      background-color: #E8F0FE;\n",
              "      border: none;\n",
              "      border-radius: 50%;\n",
              "      cursor: pointer;\n",
              "      display: none;\n",
              "      fill: #1967D2;\n",
              "      height: 32px;\n",
              "      padding: 0 0 0 0;\n",
              "      width: 32px;\n",
              "    }\n",
              "\n",
              "    .colab-df-convert:hover {\n",
              "      background-color: #E2EBFA;\n",
              "      box-shadow: 0px 1px 2px rgba(60, 64, 67, 0.3), 0px 1px 3px 1px rgba(60, 64, 67, 0.15);\n",
              "      fill: #174EA6;\n",
              "    }\n",
              "\n",
              "    .colab-df-buttons div {\n",
              "      margin-bottom: 4px;\n",
              "    }\n",
              "\n",
              "    [theme=dark] .colab-df-convert {\n",
              "      background-color: #3B4455;\n",
              "      fill: #D2E3FC;\n",
              "    }\n",
              "\n",
              "    [theme=dark] .colab-df-convert:hover {\n",
              "      background-color: #434B5C;\n",
              "      box-shadow: 0px 1px 3px 1px rgba(0, 0, 0, 0.15);\n",
              "      filter: drop-shadow(0px 1px 2px rgba(0, 0, 0, 0.3));\n",
              "      fill: #FFFFFF;\n",
              "    }\n",
              "  </style>\n",
              "\n",
              "    <script>\n",
              "      const buttonEl =\n",
              "        document.querySelector('#df-7d72582b-7c97-4098-a214-153a21e710bc button.colab-df-convert');\n",
              "      buttonEl.style.display =\n",
              "        google.colab.kernel.accessAllowed ? 'block' : 'none';\n",
              "\n",
              "      async function convertToInteractive(key) {\n",
              "        const element = document.querySelector('#df-7d72582b-7c97-4098-a214-153a21e710bc');\n",
              "        const dataTable =\n",
              "          await google.colab.kernel.invokeFunction('convertToInteractive',\n",
              "                                                    [key], {});\n",
              "        if (!dataTable) return;\n",
              "\n",
              "        const docLinkHtml = 'Like what you see? Visit the ' +\n",
              "          '<a target=\"_blank\" href=https://colab.research.google.com/notebooks/data_table.ipynb>data table notebook</a>'\n",
              "          + ' to learn more about interactive tables.';\n",
              "        element.innerHTML = '';\n",
              "        dataTable['output_type'] = 'display_data';\n",
              "        await google.colab.output.renderOutput(dataTable, element);\n",
              "        const docLink = document.createElement('div');\n",
              "        docLink.innerHTML = docLinkHtml;\n",
              "        element.appendChild(docLink);\n",
              "      }\n",
              "    </script>\n",
              "  </div>\n",
              "\n",
              "\n",
              "    <div id=\"df-af00c851-cef1-483c-bf86-0560cba7a4fa\">\n",
              "      <button class=\"colab-df-quickchart\" onclick=\"quickchart('df-af00c851-cef1-483c-bf86-0560cba7a4fa')\"\n",
              "                title=\"Suggest charts\"\n",
              "                style=\"display:none;\">\n",
              "\n",
              "<svg xmlns=\"http://www.w3.org/2000/svg\" height=\"24px\"viewBox=\"0 0 24 24\"\n",
              "     width=\"24px\">\n",
              "    <g>\n",
              "        <path d=\"M19 3H5c-1.1 0-2 .9-2 2v14c0 1.1.9 2 2 2h14c1.1 0 2-.9 2-2V5c0-1.1-.9-2-2-2zM9 17H7v-7h2v7zm4 0h-2V7h2v10zm4 0h-2v-4h2v4z\"/>\n",
              "    </g>\n",
              "</svg>\n",
              "      </button>\n",
              "\n",
              "<style>\n",
              "  .colab-df-quickchart {\n",
              "      --bg-color: #E8F0FE;\n",
              "      --fill-color: #1967D2;\n",
              "      --hover-bg-color: #E2EBFA;\n",
              "      --hover-fill-color: #174EA6;\n",
              "      --disabled-fill-color: #AAA;\n",
              "      --disabled-bg-color: #DDD;\n",
              "  }\n",
              "\n",
              "  [theme=dark] .colab-df-quickchart {\n",
              "      --bg-color: #3B4455;\n",
              "      --fill-color: #D2E3FC;\n",
              "      --hover-bg-color: #434B5C;\n",
              "      --hover-fill-color: #FFFFFF;\n",
              "      --disabled-bg-color: #3B4455;\n",
              "      --disabled-fill-color: #666;\n",
              "  }\n",
              "\n",
              "  .colab-df-quickchart {\n",
              "    background-color: var(--bg-color);\n",
              "    border: none;\n",
              "    border-radius: 50%;\n",
              "    cursor: pointer;\n",
              "    display: none;\n",
              "    fill: var(--fill-color);\n",
              "    height: 32px;\n",
              "    padding: 0;\n",
              "    width: 32px;\n",
              "  }\n",
              "\n",
              "  .colab-df-quickchart:hover {\n",
              "    background-color: var(--hover-bg-color);\n",
              "    box-shadow: 0 1px 2px rgba(60, 64, 67, 0.3), 0 1px 3px 1px rgba(60, 64, 67, 0.15);\n",
              "    fill: var(--button-hover-fill-color);\n",
              "  }\n",
              "\n",
              "  .colab-df-quickchart-complete:disabled,\n",
              "  .colab-df-quickchart-complete:disabled:hover {\n",
              "    background-color: var(--disabled-bg-color);\n",
              "    fill: var(--disabled-fill-color);\n",
              "    box-shadow: none;\n",
              "  }\n",
              "\n",
              "  .colab-df-spinner {\n",
              "    border: 2px solid var(--fill-color);\n",
              "    border-color: transparent;\n",
              "    border-bottom-color: var(--fill-color);\n",
              "    animation:\n",
              "      spin 1s steps(1) infinite;\n",
              "  }\n",
              "\n",
              "  @keyframes spin {\n",
              "    0% {\n",
              "      border-color: transparent;\n",
              "      border-bottom-color: var(--fill-color);\n",
              "      border-left-color: var(--fill-color);\n",
              "    }\n",
              "    20% {\n",
              "      border-color: transparent;\n",
              "      border-left-color: var(--fill-color);\n",
              "      border-top-color: var(--fill-color);\n",
              "    }\n",
              "    30% {\n",
              "      border-color: transparent;\n",
              "      border-left-color: var(--fill-color);\n",
              "      border-top-color: var(--fill-color);\n",
              "      border-right-color: var(--fill-color);\n",
              "    }\n",
              "    40% {\n",
              "      border-color: transparent;\n",
              "      border-right-color: var(--fill-color);\n",
              "      border-top-color: var(--fill-color);\n",
              "    }\n",
              "    60% {\n",
              "      border-color: transparent;\n",
              "      border-right-color: var(--fill-color);\n",
              "    }\n",
              "    80% {\n",
              "      border-color: transparent;\n",
              "      border-right-color: var(--fill-color);\n",
              "      border-bottom-color: var(--fill-color);\n",
              "    }\n",
              "    90% {\n",
              "      border-color: transparent;\n",
              "      border-bottom-color: var(--fill-color);\n",
              "    }\n",
              "  }\n",
              "</style>\n",
              "\n",
              "      <script>\n",
              "        async function quickchart(key) {\n",
              "          const quickchartButtonEl =\n",
              "            document.querySelector('#' + key + ' button');\n",
              "          quickchartButtonEl.disabled = true;  // To prevent multiple clicks.\n",
              "          quickchartButtonEl.classList.add('colab-df-spinner');\n",
              "          try {\n",
              "            const charts = await google.colab.kernel.invokeFunction(\n",
              "                'suggestCharts', [key], {});\n",
              "          } catch (error) {\n",
              "            console.error('Error during call to suggestCharts:', error);\n",
              "          }\n",
              "          quickchartButtonEl.classList.remove('colab-df-spinner');\n",
              "          quickchartButtonEl.classList.add('colab-df-quickchart-complete');\n",
              "        }\n",
              "        (() => {\n",
              "          let quickchartButtonEl =\n",
              "            document.querySelector('#df-af00c851-cef1-483c-bf86-0560cba7a4fa button');\n",
              "          quickchartButtonEl.style.display =\n",
              "            google.colab.kernel.accessAllowed ? 'block' : 'none';\n",
              "        })();\n",
              "      </script>\n",
              "    </div>\n",
              "\n",
              "    </div>\n",
              "  </div>\n"
            ],
            "application/vnd.google.colaboratory.intrinsic+json": {
              "type": "dataframe",
              "variable_name": "df",
              "summary": "{\n  \"name\": \"df\",\n  \"rows\": 344,\n  \"fields\": [\n    {\n      \"column\": \"species\",\n      \"properties\": {\n        \"dtype\": \"category\",\n        \"num_unique_values\": 3,\n        \"samples\": [\n          \"Adelie\",\n          \"Chinstrap\",\n          \"Gentoo\"\n        ],\n        \"semantic_type\": \"\",\n        \"description\": \"\"\n      }\n    },\n    {\n      \"column\": \"island\",\n      \"properties\": {\n        \"dtype\": \"category\",\n        \"num_unique_values\": 3,\n        \"samples\": [\n          \"Torgersen\",\n          \"Biscoe\",\n          \"Dream\"\n        ],\n        \"semantic_type\": \"\",\n        \"description\": \"\"\n      }\n    },\n    {\n      \"column\": \"bill_length_mm\",\n      \"properties\": {\n        \"dtype\": \"number\",\n        \"std\": 5.459583713926532,\n        \"min\": 32.1,\n        \"max\": 59.6,\n        \"num_unique_values\": 164,\n        \"samples\": [\n          48.2,\n          49.8,\n          45.1\n        ],\n        \"semantic_type\": \"\",\n        \"description\": \"\"\n      }\n    },\n    {\n      \"column\": \"bill_depth_mm\",\n      \"properties\": {\n        \"dtype\": \"number\",\n        \"std\": 1.9747931568167816,\n        \"min\": 13.1,\n        \"max\": 21.5,\n        \"num_unique_values\": 80,\n        \"samples\": [\n          16.9,\n          18.7,\n          18.6\n        ],\n        \"semantic_type\": \"\",\n        \"description\": \"\"\n      }\n    },\n    {\n      \"column\": \"flipper_length_mm\",\n      \"properties\": {\n        \"dtype\": \"number\",\n        \"std\": 14.061713679356894,\n        \"min\": 172.0,\n        \"max\": 231.0,\n        \"num_unique_values\": 55,\n        \"samples\": [\n          201.0,\n          180.0,\n          212.0\n        ],\n        \"semantic_type\": \"\",\n        \"description\": \"\"\n      }\n    },\n    {\n      \"column\": \"body_mass_g\",\n      \"properties\": {\n        \"dtype\": \"number\",\n        \"std\": 801.9545356980954,\n        \"min\": 2700.0,\n        \"max\": 6300.0,\n        \"num_unique_values\": 94,\n        \"samples\": [\n          4350.0,\n          4150.0,\n          3525.0\n        ],\n        \"semantic_type\": \"\",\n        \"description\": \"\"\n      }\n    },\n    {\n      \"column\": \"sex\",\n      \"properties\": {\n        \"dtype\": \"category\",\n        \"num_unique_values\": 2,\n        \"samples\": [\n          \"Female\",\n          \"Male\"\n        ],\n        \"semantic_type\": \"\",\n        \"description\": \"\"\n      }\n    }\n  ]\n}"
            }
          },
          "metadata": {},
          "execution_count": 38
        }
      ]
    },
    {
      "cell_type": "markdown",
      "source": [
        "## Pre-Processing"
      ],
      "metadata": {
        "id": "3bP23_I6-c8_"
      }
    },
    {
      "cell_type": "code",
      "source": [
        "cols_keep = [\n",
        "    'species','island','sex',\n",
        "    'bill_length_mm','bill_depth_mm','flipper_length_mm','body_mass_g'\n",
        "]\n",
        "df = df[cols_keep].copy()\n",
        "\n",
        "df = df.dropna(subset=cols_keep).copy()\n",
        "\n",
        "df = pd.get_dummies(\n",
        "    df,\n",
        "    columns=['species','island','sex'],\n",
        "    drop_first=True,\n",
        "    dtype=float\n",
        ")\n",
        "\n",
        "df = df.reset_index(drop=True)"
      ],
      "metadata": {
        "id": "0b72z5z-bE0u"
      },
      "execution_count": null,
      "outputs": []
    },
    {
      "cell_type": "code",
      "source": [
        "from sklearn.pipeline import Pipeline\n",
        "from sklearn.preprocessing import FunctionTransformer\n",
        "from sklearn.linear_model import LinearRegression\n",
        "from sklearn.model_selection import train_test_split\n",
        "from sklearn.metrics import mean_squared_error\n",
        "import numpy as np\n",
        "import pandas as pd\n",
        "\n",
        "target = 'body_mass_g'\n",
        "\n",
        "def add_inter_ld(X_df: pd.DataFrame) -> pd.DataFrame:\n",
        "    X_df = X_df.copy()\n",
        "    if {'bill_length_mm','bill_depth_mm'}.issubset(X_df.columns):\n",
        "        X_df['bill_length_x_depth'] = X_df['bill_length_mm'] * X_df['bill_depth_mm']\n",
        "    else:\n",
        "        raise KeyError(\"As colunas 'bill_length_mm' e/ou 'bill_depth_mm' não estão no DataFrame.\")\n",
        "    return X_df\n",
        "\n",
        "X = df.drop(columns=[target]).copy()\n",
        "y = df[target].copy()\n",
        "\n",
        "pipe = Pipeline(steps=[\n",
        "    ('inter', FunctionTransformer(add_inter_ld, validate=False)),\n",
        "    ('model', LinearRegression())\n",
        "])\n",
        "\n",
        "X_train, X_test, y_train, y_test = train_test_split(\n",
        "    X, y, test_size=0.2, random_state=42\n",
        ")\n",
        "\n",
        "pipe.fit(X_train, y_train)\n",
        "y_pred = pipe.predict(X_test)\n",
        "\n",
        "mse = mean_squared_error(y_test, y_pred)\n",
        "rmse = np.sqrt(mse)\n",
        "print(f\"RMSE no conjunto de teste: {rmse:.2f} g\")"
      ],
      "metadata": {
        "colab": {
          "base_uri": "https://localhost:8080/"
        },
        "id": "ZyuYHo1HYte9",
        "outputId": "bc91fbc4-4822-4969-9528-19ce7c3cd337"
      },
      "execution_count": null,
      "outputs": [
        {
          "output_type": "stream",
          "name": "stdout",
          "text": [
            "RMSE no conjunto de teste: 247.40 g\n"
          ]
        }
      ]
    },
    {
      "cell_type": "code",
      "source": [
        "df_original = pd.read_csv(path + 'penguins.csv')\n",
        "df_original = df_original.dropna(subset=cols_keep).copy()\n",
        "\n",
        "g = df_original[(df_original['species'] == 'Chinstrap') & (df_original['sex'] == 'Female')]\n",
        "\n",
        "means = {\n",
        "    'bill_length_mm': g['bill_length_mm'].mean(),\n",
        "    'bill_depth_mm': g['bill_depth_mm'].mean(),\n",
        "    'flipper_length_mm': g['flipper_length_mm'].mean()\n",
        "}\n",
        "island_mode = g['island'].mode().iloc[0]\n",
        "\n",
        "print(\"Medidas médias usadas:\", means, \"| island:\", island_mode)\n",
        "\n",
        "X_new = pd.DataFrame(0, index=[0], columns=df.drop(columns=['body_mass_g']).columns)\n",
        "\n",
        "for col in ['bill_length_mm','bill_depth_mm','flipper_length_mm']:\n",
        "    X_new[col] = means[col]\n",
        "\n",
        "if 'species_Chinstrap' in X_new.columns:\n",
        "    X_new['species_Chinstrap'] = 1\n",
        "if f'island_{island_mode}' in X_new.columns:\n",
        "    X_new[f'island_{island_mode}'] = 1\n",
        "y_hat = pipe.predict(X_new)[0]\n",
        "real_mean = g['body_mass_g'].mean()\n",
        "abs_err  = abs(y_hat - real_mean)\n",
        "pct_err  = abs_err / real_mean * 100\n",
        "\n",
        "print(f\"Predição do modelo: {y_hat:.0f} g\")\n",
        "print(f\"Média real (Female, Chinstrap): {real_mean:.0f} g\")\n",
        "print(f\"Erro absoluto: {abs_err:.0f} g | Erro %: {pct_err:.2f}%\")"
      ],
      "metadata": {
        "colab": {
          "base_uri": "https://localhost:8080/"
        },
        "id": "8nN8QruuZXqN",
        "outputId": "3c8ca1b9-478d-441f-ed4b-9bc0148e5b21"
      },
      "execution_count": null,
      "outputs": [
        {
          "output_type": "stream",
          "name": "stdout",
          "text": [
            "Medidas médias usadas: {'bill_length_mm': np.float64(46.57352941176471), 'bill_depth_mm': np.float64(17.588235294117652), 'flipper_length_mm': np.float64(191.73529411764707)} | island: Dream\n",
            "Predição do modelo: 3421 g\n",
            "Média real (Female, Chinstrap): 3527 g\n",
            "Erro absoluto: 106 g | Erro %: 3.00%\n"
          ]
        }
      ]
    },
    {
      "cell_type": "code",
      "source": [
        "#@markdown **Check**, must be TRUE after pre-processing\n",
        "display((df.sum().sum() == 1488762.5) or (df.sum().sum() == 44281742.328))\n"
      ],
      "metadata": {
        "colab": {
          "base_uri": "https://localhost:8080/",
          "height": 34
        },
        "id": "by_NQSou9jBP",
        "outputId": "a9d44d79-52fe-456f-9b29-b3d6744140b2"
      },
      "execution_count": null,
      "outputs": [
        {
          "output_type": "display_data",
          "data": {
            "text/plain": [
              "np.True_"
            ]
          },
          "metadata": {}
        }
      ]
    },
    {
      "cell_type": "markdown",
      "source": [
        "## Feature selection\n",
        "\n",
        "Q1. Que atributos não são significativos e qual o R2 ajustado para o modelo somente com coeficientes significativos? (**mantenha o intercept independente de ser significativo ou não**, não há pinguim de peso 0!)"
      ],
      "metadata": {
        "id": "ra1cPJSY_Oii"
      }
    },
    {
      "cell_type": "code",
      "source": [
        "import statsmodels.api as sm\n",
        "\n",
        "X = df.drop(columns=['body_mass_g'])\n",
        "y = df['body_mass_g']\n",
        "\n",
        "X = sm.add_constant(X)\n",
        "\n",
        "model_full = sm.OLS(y, X).fit()\n",
        "print(model_full.summary())\n",
        "\n",
        "significant_vars = model_full.pvalues[model_full.pvalues < 0.05].index\n",
        "\n",
        "if 'const' not in significant_vars:\n",
        "    significant_vars = significant_vars.insert(0, 'const')\n",
        "\n",
        "print(\"\\nVariáveis significativas:\", significant_vars.tolist())\n",
        "\n",
        "X_sig = X[significant_vars]\n",
        "model_sig = sm.OLS(y, X_sig).fit()\n",
        "print(model_sig.summary())\n",
        "\n",
        "print(f\"\\nR² ajustado do modelo apenas com variáveis significativas: \", round(model_sig.rsquared_adj,3))"
      ],
      "metadata": {
        "id": "xXfV9gT4gsmO",
        "colab": {
          "base_uri": "https://localhost:8080/"
        },
        "outputId": "010bc8fd-fee4-46cc-dfac-ee0e6b2ca0f9"
      },
      "execution_count": null,
      "outputs": [
        {
          "output_type": "stream",
          "name": "stdout",
          "text": [
            "                            OLS Regression Results                            \n",
            "==============================================================================\n",
            "Dep. Variable:            body_mass_g   R-squared:                       0.875\n",
            "Model:                            OLS   Adj. R-squared:                  0.872\n",
            "Method:                 Least Squares   F-statistic:                     284.1\n",
            "Date:                Thu, 04 Sep 2025   Prob (F-statistic):          1.85e-141\n",
            "Time:                        20:56:18   Log-Likelihood:                -2353.6\n",
            "No. Observations:                 333   AIC:                             4725.\n",
            "Df Residuals:                     324   BIC:                             4760.\n",
            "Df Model:                           8                                         \n",
            "Covariance Type:            nonrobust                                         \n",
            "=====================================================================================\n",
            "                        coef    std err          t      P>|t|      [0.025      0.975]\n",
            "-------------------------------------------------------------------------------------\n",
            "const             -1500.0291    575.822     -2.605      0.010   -2632.852    -367.207\n",
            "bill_length_mm       18.1893      7.136      2.549      0.011       4.150      32.229\n",
            "bill_depth_mm        67.5754     19.821      3.409      0.001      28.581     106.570\n",
            "flipper_length_mm    16.2385      2.939      5.524      0.000      10.456      22.021\n",
            "species_Chinstrap  -260.3063     88.551     -2.940      0.004    -434.513     -86.100\n",
            "species_Gentoo      987.7614    137.238      7.197      0.000     717.771    1257.752\n",
            "island_Dream        -13.1031     58.541     -0.224      0.823    -128.271     102.065\n",
            "island_Torgersen    -48.0636     60.922     -0.789      0.431    -167.915      71.788\n",
            "sex_Male            387.2243     48.138      8.044      0.000     292.521     481.927\n",
            "==============================================================================\n",
            "Omnibus:                        1.114   Durbin-Watson:                   2.167\n",
            "Prob(Omnibus):                  0.573   Jarque-Bera (JB):                1.101\n",
            "Skew:                           0.139   Prob(JB):                        0.577\n",
            "Kurtosis:                       2.958   Cond. No.                     7.59e+03\n",
            "==============================================================================\n",
            "\n",
            "Notes:\n",
            "[1] Standard Errors assume that the covariance matrix of the errors is correctly specified.\n",
            "[2] The condition number is large, 7.59e+03. This might indicate that there are\n",
            "strong multicollinearity or other numerical problems.\n",
            "\n",
            "Variáveis significativas: ['const', 'bill_length_mm', 'bill_depth_mm', 'flipper_length_mm', 'species_Chinstrap', 'species_Gentoo', 'sex_Male']\n",
            "                            OLS Regression Results                            \n",
            "==============================================================================\n",
            "Dep. Variable:            body_mass_g   R-squared:                       0.875\n",
            "Model:                            OLS   Adj. R-squared:                  0.873\n",
            "Method:                 Least Squares   F-statistic:                     380.2\n",
            "Date:                Thu, 04 Sep 2025   Prob (F-statistic):          6.82e-144\n",
            "Time:                        20:56:18   Log-Likelihood:                -2354.0\n",
            "No. Observations:                 333   AIC:                             4722.\n",
            "Df Residuals:                     326   BIC:                             4749.\n",
            "Df Model:                           6                                         \n",
            "Covariance Type:            nonrobust                                         \n",
            "=====================================================================================\n",
            "                        coef    std err          t      P>|t|      [0.025      0.975]\n",
            "-------------------------------------------------------------------------------------\n",
            "const             -1460.9946    571.308     -2.557      0.011   -2584.911    -337.079\n",
            "bill_length_mm       18.2044      7.106      2.562      0.011       4.225      32.184\n",
            "bill_depth_mm        67.2176     19.742      3.405      0.001      28.380     106.055\n",
            "flipper_length_mm    15.9502      2.910      5.482      0.000      10.226      21.674\n",
            "species_Chinstrap  -251.4767     81.079     -3.102      0.002    -410.980     -91.973\n",
            "species_Gentoo     1014.6267    129.561      7.831      0.000     759.746    1269.507\n",
            "sex_Male            389.8915     47.848      8.148      0.000     295.761     484.022\n",
            "==============================================================================\n",
            "Omnibus:                        0.879   Durbin-Watson:                   2.169\n",
            "Prob(Omnibus):                  0.644   Jarque-Bera (JB):                0.871\n",
            "Skew:                           0.124   Prob(JB):                        0.647\n",
            "Kurtosis:                       2.959   Cond. No.                     7.55e+03\n",
            "==============================================================================\n",
            "\n",
            "Notes:\n",
            "[1] Standard Errors assume that the covariance matrix of the errors is correctly specified.\n",
            "[2] The condition number is large, 7.55e+03. This might indicate that there are\n",
            "strong multicollinearity or other numerical problems.\n",
            "\n",
            "R² ajustado do modelo apenas com variáveis significativas:  0.873\n"
          ]
        }
      ]
    },
    {
      "cell_type": "markdown",
      "source": [
        "## Variáveis de Interação\n",
        "\n",
        "Q2. Quais das interações  `bill_length_mm` e `bill_depth_mm` **OU**  `bill_length_mm`,`bill_depth_mm` e `flipper_length_mm` é significativa ao ser incluída no modelo? Informe o p-value encontrado para ela."
      ],
      "metadata": {
        "id": "REr12_TE_nnf"
      }
    },
    {
      "cell_type": "code",
      "source": [
        "import statsmodels.formula.api as smf\n",
        "\n",
        "base_formula = (\n",
        "    \"body_mass_g ~ bill_length_mm + bill_depth_mm + flipper_length_mm \"\n",
        "    \"+ species_Chinstrap + species_Gentoo + sex_Male\"\n",
        ")\n",
        "\n",
        "model_ld = smf.ols(\n",
        "    formula=base_formula + \" + bill_length_mm:bill_depth_mm\",\n",
        "    data=df\n",
        ").fit()\n",
        "print(\"Interação bill_length_mm:bill_depth_mm\")\n",
        "print(model_ld.summary().tables[1])\n",
        "\n",
        "model_ldf = smf.ols(\n",
        "    formula=base_formula + \" + bill_length_mm:bill_depth_mm:flipper_length_mm\",\n",
        "    data=df\n",
        ").fit()\n",
        "print(\"\\nInteração bill_length_mm:bill_depth_mm:flipper_length_mm\")\n",
        "print(model_ldf.summary().tables[1])"
      ],
      "metadata": {
        "id": "Hkb0x4T4guoH",
        "colab": {
          "base_uri": "https://localhost:8080/"
        },
        "outputId": "785247ec-49a9-4109-ce6d-9e9af6064aac"
      },
      "execution_count": null,
      "outputs": [
        {
          "output_type": "stream",
          "name": "stdout",
          "text": [
            "Interação bill_length_mm:bill_depth_mm\n",
            "================================================================================================\n",
            "                                   coef    std err          t      P>|t|      [0.025      0.975]\n",
            "------------------------------------------------------------------------------------------------\n",
            "Intercept                    -6290.4458   1832.633     -3.432      0.001   -9895.766   -2685.126\n",
            "bill_length_mm                 130.2737     41.058      3.173      0.002      49.500     211.048\n",
            "bill_depth_mm                  333.9237     98.231      3.399      0.001     140.675     527.173\n",
            "flipper_length_mm               16.5347      2.888      5.725      0.000      10.853      22.216\n",
            "species_Chinstrap             -200.7631     82.322     -2.439      0.015    -362.715     -38.812\n",
            "species_Gentoo                 923.7884    132.379      6.978      0.000     663.361    1184.216\n",
            "sex_Male                       391.6035     47.370      8.267      0.000     298.413     484.794\n",
            "bill_length_mm:bill_depth_mm    -6.3440      2.290     -2.770      0.006     -10.849      -1.839\n",
            "================================================================================================\n",
            "\n",
            "Interação bill_length_mm:bill_depth_mm:flipper_length_mm\n",
            "==================================================================================================================\n",
            "                                                     coef    std err          t      P>|t|      [0.025      0.975]\n",
            "------------------------------------------------------------------------------------------------------------------\n",
            "Intercept                                      -5541.4192   2613.280     -2.120      0.035   -1.07e+04    -400.339\n",
            "bill_length_mm                                    64.8529     30.006      2.161      0.031       5.822     123.883\n",
            "bill_depth_mm                                    175.8308     70.685      2.488      0.013      36.772     314.889\n",
            "flipper_length_mm                                 26.7049      7.322      3.647      0.000      12.301      41.109\n",
            "species_Chinstrap                               -251.8103     80.886     -3.113      0.002    -410.936     -92.684\n",
            "species_Gentoo                                   938.7134    137.686      6.818      0.000     667.846    1209.581\n",
            "sex_Male                                         388.6113     47.741      8.140      0.000     294.691     482.532\n",
            "bill_length_mm:bill_depth_mm:flipper_length_mm    -0.0130      0.008     -1.600      0.111      -0.029       0.003\n",
            "==================================================================================================================\n"
          ]
        }
      ]
    },
    {
      "cell_type": "markdown",
      "source": [
        "## Modelo de Interação com o `scikit-learn`\n",
        "\n",
        "Q3. Implemente o modelo de interação *obtido* com o `scikit-learn`. Qual o R2 e o coeficiente de `bill_length_mm` obtidos desse modelo?"
      ],
      "metadata": {
        "id": "w_P0t5M1ADk_"
      }
    },
    {
      "cell_type": "code",
      "source": [
        "def add_inter_ld(X_df: pd.DataFrame) -> pd.DataFrame:\n",
        "    X_df = X_df.copy()\n",
        "    X_df['bill_length_x_depth'] = X_df['bill_length_mm'] * X_df['bill_depth_mm']\n",
        "    return X_df\n",
        "\n",
        "target = 'body_mass_g'\n",
        "X = df.drop(columns=[target]).copy()\n",
        "y = df[target].copy()\n",
        "\n",
        "pipe = Pipeline(steps=[\n",
        "    ('inter', FunctionTransformer(add_inter_ld, validate=False)),\n",
        "    ('model', LinearRegression())\n",
        "])\n",
        "\n",
        "pipe.fit(X, y)\n",
        "\n",
        "r2 = pipe.score(X, y)\n",
        "coefs = pipe.named_steps['model'].coef_\n",
        "features = pipe['inter'].transform(X).columns\n",
        "\n",
        "coef_bill_length = dict(zip(features, coefs))['bill_length_mm']\n",
        "\n",
        "print(f\"R² do modelo: {r2:.4f}\")\n",
        "print(f\"Coeficiente de bill_length_mm: {coef_bill_length:.4f}\")"
      ],
      "metadata": {
        "id": "jQ0fSGxSgwjg",
        "colab": {
          "base_uri": "https://localhost:8080/"
        },
        "outputId": "c30fbfa1-1ba4-49e8-af5f-2a192080b89b"
      },
      "execution_count": null,
      "outputs": [
        {
          "output_type": "stream",
          "name": "stdout",
          "text": [
            "R² do modelo: 0.8782\n",
            "Coeficiente de bill_length_mm: 131.9598\n"
          ]
        }
      ]
    },
    {
      "cell_type": "markdown",
      "source": [
        "## Predição com o `scikit-learn`\n",
        "\n",
        "Q4. Como o modelo de interação *obtido* qual o peso estimado de um pinguim fêmea com medidas médias da espécie Chinstrap e o valor real?  "
      ],
      "metadata": {
        "id": "hzNHCmUvA89K"
      }
    },
    {
      "cell_type": "code",
      "source": [
        "df_original = pd.read_csv(path + 'penguins.csv')\n",
        "df_original = df_original.dropna(subset=cols_keep).copy()\n",
        "\n",
        "g = df_original[(df_original['species'] == 'Chinstrap') & (df_original['sex'] == 'Female')]\n",
        "\n",
        "means = {\n",
        "    'bill_length_mm': g['bill_length_mm'].mean(),\n",
        "    'bill_depth_mm': g['bill_depth_mm'].mean(),\n",
        "    'flipper_length_mm': g['flipper_length_mm'].mean()\n",
        "}\n",
        "island_mode = g['island'].mode().iloc[0]\n",
        "\n",
        "X_new = pd.DataFrame(0, index=[0], columns=df.drop(columns=['body_mass_g']).columns)\n",
        "\n",
        "for col in ['bill_length_mm','bill_depth_mm','flipper_length_mm']:\n",
        "    X_new[col] = means[col]\n",
        "\n",
        "if 'species_Chinstrap' in X_new.columns:\n",
        "    X_new['species_Chinstrap'] = 1\n",
        "if f'island_{island_mode}' in X_new.columns:\n",
        "    X_new[f'island_{island_mode}'] = 1\n",
        "\n",
        "y_pred_single = pipe.predict(X_new)[0]\n",
        "\n",
        "real_mean = g['body_mass_g'].mean()\n",
        "\n",
        "print(f\"previsto = {y_pred_single:.2f}\")\n",
        "print(f\"média real = {real_mean:.2f}\")"
      ],
      "metadata": {
        "id": "Syf1JVjrgynQ",
        "colab": {
          "base_uri": "https://localhost:8080/"
        },
        "outputId": "c2a2ee58-b130-429f-fa57-4cffe93fbeb9"
      },
      "execution_count": null,
      "outputs": [
        {
          "output_type": "stream",
          "name": "stdout",
          "text": [
            "previsto = 3423.42\n",
            "média real = 3527.21\n"
          ]
        }
      ]
    },
    {
      "cell_type": "markdown",
      "source": [
        "# Exercício 2.\n",
        "\n",
        "Neste exercício você vai comparar os resultados de predição de modelos estatísticos de séries temporais (ARIMA) com os de um modelo de aprendizado de máquina (regressão linear).\n",
        "\n",
        "1. Crie dois modelos ARIMA para série de LOD - Length Of the Day acumulado. A série é estacionária para $d=2$, o primeiro modelo empregará as componentes regressiva e de médias móveis (ARIMA) unitárias. O segundo, apenas a componente regressiva (também unitária). O modelo é estimado sobre todos os dados. Calcule o erro de ajuste do modelo (RMSE).\n",
        "2. Em seguida crie um modelo de regressão linear para ajustar os valores da série. Empregue 2 lag no modelo (o número de features de atraso como ensinado em aula, ver o livro de Séries Temporais, Cap. 5, Aprendizado de Máquina). O modelo é estimado sobre todos os dados. Calcule o erro de ajuste do modelo (RMSE).\n",
        "\n",
        "\n",
        "\n",
        "\n"
      ],
      "metadata": {
        "id": "7C8EAgY9j6wj"
      }
    },
    {
      "cell_type": "code",
      "source": [
        "df = pd.read_csv('https://github.com/Introducao-Series-Temporais-em-Python/Book/raw/main/Data/Delta_LOD.csv',sep=';',usecols=['year', 'month', 'day', 'lod(ms)', 'sig(ms)'])\n",
        "df.index = pd.to_datetime(df[[\"year\", \"month\", \"day\"]])\n",
        "\n",
        "ts = df[['lod(ms)']].cumsum().resample('YE').mean()\n",
        "ts.head()"
      ],
      "metadata": {
        "colab": {
          "base_uri": "https://localhost:8080/",
          "height": 206
        },
        "outputId": "25ef671b-b06f-4d29-dc4a-6d79da50458a",
        "id": "W56E4SQaDZT7"
      },
      "execution_count": null,
      "outputs": [
        {
          "output_type": "execute_result",
          "data": {
            "text/plain": [
              "                lod(ms)\n",
              "1962-12-31   236.279118\n",
              "1963-12-31   733.407214\n",
              "1964-12-31  1392.497363\n",
              "1965-12-31  2144.264740\n",
              "1966-12-31  2993.562956"
            ],
            "text/html": [
              "\n",
              "  <div id=\"df-df3dcc38-2e68-4326-9773-8598739d2964\" class=\"colab-df-container\">\n",
              "    <div>\n",
              "<style scoped>\n",
              "    .dataframe tbody tr th:only-of-type {\n",
              "        vertical-align: middle;\n",
              "    }\n",
              "\n",
              "    .dataframe tbody tr th {\n",
              "        vertical-align: top;\n",
              "    }\n",
              "\n",
              "    .dataframe thead th {\n",
              "        text-align: right;\n",
              "    }\n",
              "</style>\n",
              "<table border=\"1\" class=\"dataframe\">\n",
              "  <thead>\n",
              "    <tr style=\"text-align: right;\">\n",
              "      <th></th>\n",
              "      <th>lod(ms)</th>\n",
              "    </tr>\n",
              "  </thead>\n",
              "  <tbody>\n",
              "    <tr>\n",
              "      <th>1962-12-31</th>\n",
              "      <td>236.279118</td>\n",
              "    </tr>\n",
              "    <tr>\n",
              "      <th>1963-12-31</th>\n",
              "      <td>733.407214</td>\n",
              "    </tr>\n",
              "    <tr>\n",
              "      <th>1964-12-31</th>\n",
              "      <td>1392.497363</td>\n",
              "    </tr>\n",
              "    <tr>\n",
              "      <th>1965-12-31</th>\n",
              "      <td>2144.264740</td>\n",
              "    </tr>\n",
              "    <tr>\n",
              "      <th>1966-12-31</th>\n",
              "      <td>2993.562956</td>\n",
              "    </tr>\n",
              "  </tbody>\n",
              "</table>\n",
              "</div>\n",
              "    <div class=\"colab-df-buttons\">\n",
              "\n",
              "  <div class=\"colab-df-container\">\n",
              "    <button class=\"colab-df-convert\" onclick=\"convertToInteractive('df-df3dcc38-2e68-4326-9773-8598739d2964')\"\n",
              "            title=\"Convert this dataframe to an interactive table.\"\n",
              "            style=\"display:none;\">\n",
              "\n",
              "  <svg xmlns=\"http://www.w3.org/2000/svg\" height=\"24px\" viewBox=\"0 -960 960 960\">\n",
              "    <path d=\"M120-120v-720h720v720H120Zm60-500h600v-160H180v160Zm220 220h160v-160H400v160Zm0 220h160v-160H400v160ZM180-400h160v-160H180v160Zm440 0h160v-160H620v160ZM180-180h160v-160H180v160Zm440 0h160v-160H620v160Z\"/>\n",
              "  </svg>\n",
              "    </button>\n",
              "\n",
              "  <style>\n",
              "    .colab-df-container {\n",
              "      display:flex;\n",
              "      gap: 12px;\n",
              "    }\n",
              "\n",
              "    .colab-df-convert {\n",
              "      background-color: #E8F0FE;\n",
              "      border: none;\n",
              "      border-radius: 50%;\n",
              "      cursor: pointer;\n",
              "      display: none;\n",
              "      fill: #1967D2;\n",
              "      height: 32px;\n",
              "      padding: 0 0 0 0;\n",
              "      width: 32px;\n",
              "    }\n",
              "\n",
              "    .colab-df-convert:hover {\n",
              "      background-color: #E2EBFA;\n",
              "      box-shadow: 0px 1px 2px rgba(60, 64, 67, 0.3), 0px 1px 3px 1px rgba(60, 64, 67, 0.15);\n",
              "      fill: #174EA6;\n",
              "    }\n",
              "\n",
              "    .colab-df-buttons div {\n",
              "      margin-bottom: 4px;\n",
              "    }\n",
              "\n",
              "    [theme=dark] .colab-df-convert {\n",
              "      background-color: #3B4455;\n",
              "      fill: #D2E3FC;\n",
              "    }\n",
              "\n",
              "    [theme=dark] .colab-df-convert:hover {\n",
              "      background-color: #434B5C;\n",
              "      box-shadow: 0px 1px 3px 1px rgba(0, 0, 0, 0.15);\n",
              "      filter: drop-shadow(0px 1px 2px rgba(0, 0, 0, 0.3));\n",
              "      fill: #FFFFFF;\n",
              "    }\n",
              "  </style>\n",
              "\n",
              "    <script>\n",
              "      const buttonEl =\n",
              "        document.querySelector('#df-df3dcc38-2e68-4326-9773-8598739d2964 button.colab-df-convert');\n",
              "      buttonEl.style.display =\n",
              "        google.colab.kernel.accessAllowed ? 'block' : 'none';\n",
              "\n",
              "      async function convertToInteractive(key) {\n",
              "        const element = document.querySelector('#df-df3dcc38-2e68-4326-9773-8598739d2964');\n",
              "        const dataTable =\n",
              "          await google.colab.kernel.invokeFunction('convertToInteractive',\n",
              "                                                    [key], {});\n",
              "        if (!dataTable) return;\n",
              "\n",
              "        const docLinkHtml = 'Like what you see? Visit the ' +\n",
              "          '<a target=\"_blank\" href=https://colab.research.google.com/notebooks/data_table.ipynb>data table notebook</a>'\n",
              "          + ' to learn more about interactive tables.';\n",
              "        element.innerHTML = '';\n",
              "        dataTable['output_type'] = 'display_data';\n",
              "        await google.colab.output.renderOutput(dataTable, element);\n",
              "        const docLink = document.createElement('div');\n",
              "        docLink.innerHTML = docLinkHtml;\n",
              "        element.appendChild(docLink);\n",
              "      }\n",
              "    </script>\n",
              "  </div>\n",
              "\n",
              "\n",
              "    <div id=\"df-76d0bb6a-dbea-4fc1-964a-1b51326fe6dc\">\n",
              "      <button class=\"colab-df-quickchart\" onclick=\"quickchart('df-76d0bb6a-dbea-4fc1-964a-1b51326fe6dc')\"\n",
              "                title=\"Suggest charts\"\n",
              "                style=\"display:none;\">\n",
              "\n",
              "<svg xmlns=\"http://www.w3.org/2000/svg\" height=\"24px\"viewBox=\"0 0 24 24\"\n",
              "     width=\"24px\">\n",
              "    <g>\n",
              "        <path d=\"M19 3H5c-1.1 0-2 .9-2 2v14c0 1.1.9 2 2 2h14c1.1 0 2-.9 2-2V5c0-1.1-.9-2-2-2zM9 17H7v-7h2v7zm4 0h-2V7h2v10zm4 0h-2v-4h2v4z\"/>\n",
              "    </g>\n",
              "</svg>\n",
              "      </button>\n",
              "\n",
              "<style>\n",
              "  .colab-df-quickchart {\n",
              "      --bg-color: #E8F0FE;\n",
              "      --fill-color: #1967D2;\n",
              "      --hover-bg-color: #E2EBFA;\n",
              "      --hover-fill-color: #174EA6;\n",
              "      --disabled-fill-color: #AAA;\n",
              "      --disabled-bg-color: #DDD;\n",
              "  }\n",
              "\n",
              "  [theme=dark] .colab-df-quickchart {\n",
              "      --bg-color: #3B4455;\n",
              "      --fill-color: #D2E3FC;\n",
              "      --hover-bg-color: #434B5C;\n",
              "      --hover-fill-color: #FFFFFF;\n",
              "      --disabled-bg-color: #3B4455;\n",
              "      --disabled-fill-color: #666;\n",
              "  }\n",
              "\n",
              "  .colab-df-quickchart {\n",
              "    background-color: var(--bg-color);\n",
              "    border: none;\n",
              "    border-radius: 50%;\n",
              "    cursor: pointer;\n",
              "    display: none;\n",
              "    fill: var(--fill-color);\n",
              "    height: 32px;\n",
              "    padding: 0;\n",
              "    width: 32px;\n",
              "  }\n",
              "\n",
              "  .colab-df-quickchart:hover {\n",
              "    background-color: var(--hover-bg-color);\n",
              "    box-shadow: 0 1px 2px rgba(60, 64, 67, 0.3), 0 1px 3px 1px rgba(60, 64, 67, 0.15);\n",
              "    fill: var(--button-hover-fill-color);\n",
              "  }\n",
              "\n",
              "  .colab-df-quickchart-complete:disabled,\n",
              "  .colab-df-quickchart-complete:disabled:hover {\n",
              "    background-color: var(--disabled-bg-color);\n",
              "    fill: var(--disabled-fill-color);\n",
              "    box-shadow: none;\n",
              "  }\n",
              "\n",
              "  .colab-df-spinner {\n",
              "    border: 2px solid var(--fill-color);\n",
              "    border-color: transparent;\n",
              "    border-bottom-color: var(--fill-color);\n",
              "    animation:\n",
              "      spin 1s steps(1) infinite;\n",
              "  }\n",
              "\n",
              "  @keyframes spin {\n",
              "    0% {\n",
              "      border-color: transparent;\n",
              "      border-bottom-color: var(--fill-color);\n",
              "      border-left-color: var(--fill-color);\n",
              "    }\n",
              "    20% {\n",
              "      border-color: transparent;\n",
              "      border-left-color: var(--fill-color);\n",
              "      border-top-color: var(--fill-color);\n",
              "    }\n",
              "    30% {\n",
              "      border-color: transparent;\n",
              "      border-left-color: var(--fill-color);\n",
              "      border-top-color: var(--fill-color);\n",
              "      border-right-color: var(--fill-color);\n",
              "    }\n",
              "    40% {\n",
              "      border-color: transparent;\n",
              "      border-right-color: var(--fill-color);\n",
              "      border-top-color: var(--fill-color);\n",
              "    }\n",
              "    60% {\n",
              "      border-color: transparent;\n",
              "      border-right-color: var(--fill-color);\n",
              "    }\n",
              "    80% {\n",
              "      border-color: transparent;\n",
              "      border-right-color: var(--fill-color);\n",
              "      border-bottom-color: var(--fill-color);\n",
              "    }\n",
              "    90% {\n",
              "      border-color: transparent;\n",
              "      border-bottom-color: var(--fill-color);\n",
              "    }\n",
              "  }\n",
              "</style>\n",
              "\n",
              "      <script>\n",
              "        async function quickchart(key) {\n",
              "          const quickchartButtonEl =\n",
              "            document.querySelector('#' + key + ' button');\n",
              "          quickchartButtonEl.disabled = true;  // To prevent multiple clicks.\n",
              "          quickchartButtonEl.classList.add('colab-df-spinner');\n",
              "          try {\n",
              "            const charts = await google.colab.kernel.invokeFunction(\n",
              "                'suggestCharts', [key], {});\n",
              "          } catch (error) {\n",
              "            console.error('Error during call to suggestCharts:', error);\n",
              "          }\n",
              "          quickchartButtonEl.classList.remove('colab-df-spinner');\n",
              "          quickchartButtonEl.classList.add('colab-df-quickchart-complete');\n",
              "        }\n",
              "        (() => {\n",
              "          let quickchartButtonEl =\n",
              "            document.querySelector('#df-76d0bb6a-dbea-4fc1-964a-1b51326fe6dc button');\n",
              "          quickchartButtonEl.style.display =\n",
              "            google.colab.kernel.accessAllowed ? 'block' : 'none';\n",
              "        })();\n",
              "      </script>\n",
              "    </div>\n",
              "\n",
              "    </div>\n",
              "  </div>\n"
            ],
            "application/vnd.google.colaboratory.intrinsic+json": {
              "type": "dataframe",
              "variable_name": "ts",
              "summary": "{\n  \"name\": \"ts\",\n  \"rows\": 61,\n  \"fields\": [\n    {\n      \"column\": \"lod(ms)\",\n      \"properties\": {\n        \"dtype\": \"number\",\n        \"std\": 10986.92869663638,\n        \"min\": 236.27911780821913,\n        \"max\": 35386.83105983608,\n        \"num_unique_values\": 61,\n        \"samples\": [\n          236.27911780821913,\n          3871.311750684931,\n          31617.40245327877\n        ],\n        \"semantic_type\": \"\",\n        \"description\": \"\"\n      }\n    }\n  ]\n}"
            }
          },
          "metadata": {},
          "execution_count": 32
        }
      ]
    },
    {
      "cell_type": "code",
      "source": [
        "fig, ax = plt.subplots(figsize=(6,4))\n",
        "\n",
        "ax.plot(ts,label='Daily Cum Yearly',color='k',linestyle='-',lw=0.5)\n",
        "\n",
        "ax.set_title('LOD - Length Of the Day (Cum)',weight='bold',color='darkblue')\n",
        "ax.set_xlabel('Time')\n",
        "\n",
        "plt.show()"
      ],
      "metadata": {
        "colab": {
          "base_uri": "https://localhost:8080/",
          "height": 410
        },
        "id": "eZrrpjnJjfpH",
        "outputId": "c405d74f-5d5a-4109-fb3f-6ba81d0011b1"
      },
      "execution_count": null,
      "outputs": [
        {
          "output_type": "display_data",
          "data": {
            "text/plain": [
              "<Figure size 600x400 with 1 Axes>"
            ],
            "image/png": "[encoded data removed]"
          },
          "metadata": {}
        }
      ]
    },
    {
      "cell_type": "markdown",
      "source": [
        "## Modelos ARIMA\n",
        "\n",
        "Q5. Qual o RMSE dos dois modelos \"ARIMA\" empregados? Como base no summary, explique a razão de um dos modelos ser \"melhor\" (menor erro)  que o outro."
      ],
      "metadata": {
        "id": "VgqTy8tJLihB"
      }
    },
    {
      "cell_type": "code",
      "source": [
        "from statsmodels.tsa.arima.model import ARIMA\n",
        "\n",
        "y = ts.iloc[:, 0] if isinstance(ts, pd.DataFrame) else ts\n",
        "y = y.astype(float)\n",
        "y.name = y.name or \"lod_ms_cum\"\n",
        "\n",
        "m1 = ARIMA(y, order=(1,2,1))\n",
        "res1 = m1.fit()\n",
        "rmse1 = np.sqrt(np.mean(res1.resid**2))\n",
        "print(\"M1 = ARIMA(1,2,1)  | RMSE =\", round(rmse1, 3))\n",
        "print(res1.summary())\n",
        "\n",
        "m2 = ARIMA(y, order=(1,2,0))\n",
        "res2 = m2.fit()\n",
        "rmse2 = np.sqrt(np.mean(res2.resid**2))\n",
        "print(\"\\nM2 = ARIMA(1,2,0)  | RMSE =\", round(rmse2, 3))\n",
        "print(res2.summary())\n",
        "\n",
        "better = \"M1 (ARIMA(1,2,1))\" if rmse1 < rmse2 else \"M2 (ARIMA(1,2,0))\"\n",
        "print(f\"\\n=> Melhor (menor erro): {better}\")"
      ],
      "metadata": {
        "id": "SZT4tPyGg8Z0",
        "colab": {
          "base_uri": "https://localhost:8080/"
        },
        "outputId": "23f557f9-ca00-4403-f58b-138490fb03fe"
      },
      "execution_count": null,
      "outputs": [
        {
          "output_type": "stream",
          "name": "stdout",
          "text": [
            "M1 = ARIMA(1,2,1)  | RMSE = 91.245\n",
            "                               SARIMAX Results                                \n",
            "==============================================================================\n",
            "Dep. Variable:                lod(ms)   No. Observations:                   61\n",
            "Model:                 ARIMA(1, 2, 1)   Log Likelihood                -335.896\n",
            "Date:                Thu, 04 Sep 2025   AIC                            677.792\n",
            "Time:                        20:49:17   BIC                            684.025\n",
            "Sample:                    12-31-1962   HQIC                           680.225\n",
            "                         - 12-31-2022                                         \n",
            "Covariance Type:                  opg                                         \n",
            "==============================================================================\n",
            "                 coef    std err          z      P>|z|      [0.025      0.975]\n",
            "------------------------------------------------------------------------------\n",
            "ar.L1          0.6349      0.246      2.576      0.010       0.152       1.118\n",
            "ma.L1         -0.1899      0.302     -0.629      0.529      -0.782       0.402\n",
            "sigma2      5146.2136    965.760      5.329      0.000    3253.359    7039.068\n",
            "===================================================================================\n",
            "Ljung-Box (L1) (Q):                   0.09   Jarque-Bera (JB):                 1.29\n",
            "Prob(Q):                              0.76   Prob(JB):                         0.53\n",
            "Heteroskedasticity (H):               1.14   Skew:                            -0.28\n",
            "Prob(H) (two-sided):                  0.77   Kurtosis:                         3.46\n",
            "===================================================================================\n",
            "\n",
            "Warnings:\n",
            "[1] Covariance matrix calculated using the outer product of gradients (complex-step).\n",
            "\n",
            "M2 = ARIMA(1,2,0)  | RMSE = 91.488\n",
            "                               SARIMAX Results                                \n",
            "==============================================================================\n",
            "Dep. Variable:                lod(ms)   No. Observations:                   61\n",
            "Model:                 ARIMA(1, 2, 0)   Log Likelihood                -336.169\n",
            "Date:                Thu, 04 Sep 2025   AIC                            676.337\n",
            "Time:                        20:49:17   BIC                            680.492\n",
            "Sample:                    12-31-1962   HQIC                           677.959\n",
            "                         - 12-31-2022                                         \n",
            "Covariance Type:                  opg                                         \n",
            "==============================================================================\n",
            "                 coef    std err          z      P>|z|      [0.025      0.975]\n",
            "------------------------------------------------------------------------------\n",
            "ar.L1          0.4889      0.137      3.559      0.000       0.220       0.758\n",
            "sigma2      5196.0686    826.686      6.285      0.000    3575.794    6816.344\n",
            "===================================================================================\n",
            "Ljung-Box (L1) (Q):                   0.38   Jarque-Bera (JB):                 2.22\n",
            "Prob(Q):                              0.54   Prob(JB):                         0.33\n",
            "Heteroskedasticity (H):               1.15   Skew:                            -0.32\n",
            "Prob(H) (two-sided):                  0.76   Kurtosis:                         3.69\n",
            "===================================================================================\n",
            "\n",
            "Warnings:\n",
            "[1] Covariance matrix calculated using the outer product of gradients (complex-step).\n",
            "\n",
            "=> Melhor (menor erro): M1 (ARIMA(1,2,1))\n"
          ]
        }
      ]
    },
    {
      "cell_type": "markdown",
      "source": [
        "## Modelo de Regressão Linear\n",
        "\n",
        "Q6. Qual o RMSE do modelo de Regressão Linear empregando-se 2 lags?"
      ],
      "metadata": {
        "id": "ajucmmU8lRAe"
      }
    },
    {
      "cell_type": "code",
      "source": [
        "y = ts.iloc[:, 0].astype(float)\n",
        "\n",
        "df_lags = pd.DataFrame({\n",
        "    'y': y,\n",
        "    'lag1': y.shift(1),\n",
        "    'lag2': y.shift(2)\n",
        "}).dropna()\n",
        "\n",
        "X = df_lags[['lag1', 'lag2']]\n",
        "y_true = df_lags['y']\n",
        "\n",
        "model = LinearRegression()\n",
        "model.fit(X, y_true)\n",
        "\n",
        "y_pred = model.predict(X)\n",
        "\n",
        "rmse_lin = np.sqrt(mean_squared_error(y_true, y_pred))\n",
        "print(f\"RMSE do modelo de Regressão Linear com 2 lags: {rmse_lin:.2f}\")"
      ],
      "metadata": {
        "id": "eUl8Sb84g_P6",
        "colab": {
          "base_uri": "https://localhost:8080/"
        },
        "outputId": "b69b7077-057b-42f1-d4e8-417231dfaa04"
      },
      "execution_count": null,
      "outputs": [
        {
          "output_type": "stream",
          "name": "stdout",
          "text": [
            "RMSE do modelo de Regressão Linear com 2 lags: 71.25\n"
          ]
        }
      ]
    },
    {
      "cell_type": "markdown",
      "source": [
        "## Predição\n",
        "\n",
        "Q7. Descreva como você faria para fazer uma predição do lod acumulado até 2050 empregando o modelo de regressão linear.\n",
        "\n"
      ],
      "metadata": {
        "id": "Cg9XtX6DKFen"
      }
    },
    {
      "cell_type": "code",
      "source": [],
      "metadata": {
        "colab": {
          "base_uri": "https://localhost:8080/",
          "height": 410
        },
        "id": "sk0mvs_2u1Z_",
        "outputId": "b2fd742c-9024-4de7-d937-b82784a8560c"
      },
      "execution_count": null,
      "outputs": [
        {
          "output_type": "display_data",
          "data": {
            "text/plain": [
              "<Figure size 600x400 with 1 Axes>"
            ],
            "image/png": "[encoded data removed]"
          },
          "metadata": {}
        }
      ]
    }
  ]
}